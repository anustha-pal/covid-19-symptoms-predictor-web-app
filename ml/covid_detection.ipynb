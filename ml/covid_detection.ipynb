{
  "nbformat": 4,
  "nbformat_minor": 0,
  "metadata": {
    "colab": {
      "name": "covid-detection.ipynb",
      "provenance": [],
      "mount_file_id": "1dVM1bjM3eZyFCUf6nHn10FlUWT8onz_s",
      "authorship_tag": "ABX9TyNLbgDzJvX496Er3rXJE4/q",
      "include_colab_link": true
    },
    "kernelspec": {
      "name": "python3",
      "display_name": "Python 3"
    },
    "language_info": {
      "name": "python"
    }
  },
  "cells": [
    {
      "cell_type": "markdown",
      "metadata": {
        "id": "view-in-github",
        "colab_type": "text"
      },
      "source": [
        "<a href=\"https://colab.research.google.com/github/hackcoderr/covid-19-symptoms-predictor-web-app/blob/master/ml/covid_detection.ipynb\" target=\"_parent\"><img src=\"https://colab.research.google.com/assets/colab-badge.svg\" alt=\"Open In Colab\"/></a>"
      ]
    },
    {
      "cell_type": "code",
      "execution_count": null,
      "metadata": {
        "id": "NZ8XWSqH_siq"
      },
      "outputs": [],
      "source": [
        "import pandas as pd\n",
        "import numpy as np\n",
        "import missingno as msno\n",
        "import seaborn as sns\n",
        "import matplotlib.pyplot as plt\n",
        "from sklearn.preprocessing import StandardScaler , Normalizer\n",
        "from sklearn.cluster import KMeans\n",
        "from sklearn.decomposition import PCA\n",
        "from scipy.stats import norm\n",
        "from scipy import stats\n",
        "from sklearn import metrics\n",
        "import warnings\n",
        "warnings.filterwarnings('ignore')\n",
        "%matplotlib inline"
      ]
    },
    {
      "cell_type": "markdown",
      "source": [
        "# Loading Data"
      ],
      "metadata": {
        "id": "OzRx46M_BDKN"
      }
    },
    {
      "cell_type": "code",
      "source": [
        "df = pd.read_csv(\"/content/drive/MyDrive/Colab Notebooks/Cleaned-Data.csv\")\n",
        "\n",
        "pd.pandas.set_option('display.max_columns',None)"
      ],
      "metadata": {
        "id": "5mdLgiUcBFrL"
      },
      "execution_count": null,
      "outputs": []
    },
    {
      "cell_type": "markdown",
      "source": [
        "# EDA"
      ],
      "metadata": {
        "id": "V7yPhNKfBu-L"
      }
    },
    {
      "cell_type": "markdown",
      "source": [
        "### Getting to know data"
      ],
      "metadata": {
        "id": "7wAKzYC0By3A"
      }
    },
    {
      "cell_type": "code",
      "source": [
        "display(\"Peeking into Data\", df)"
      ],
      "metadata": {
        "colab": {
          "base_uri": "https://localhost:8080/",
          "height": 541
        },
        "id": "CIWFI_nhB7yj",
        "outputId": "f5b8571e-def6-42b1-d83e-fb8c9d6a8608"
      },
      "execution_count": null,
      "outputs": [
        {
          "output_type": "display_data",
          "data": {
            "application/vnd.google.colaboratory.intrinsic+json": {
              "type": "string"
            },
            "text/plain": [
              "'Peeking into Data'"
            ]
          },
          "metadata": {}
        },
        {
          "output_type": "display_data",
          "data": {
            "text/html": [
              "\n",
              "  <div id=\"df-ede4790f-da06-46f2-b732-093549124fb1\">\n",
              "    <div class=\"colab-df-container\">\n",
              "      <div>\n",
              "<style scoped>\n",
              "    .dataframe tbody tr th:only-of-type {\n",
              "        vertical-align: middle;\n",
              "    }\n",
              "\n",
              "    .dataframe tbody tr th {\n",
              "        vertical-align: top;\n",
              "    }\n",
              "\n",
              "    .dataframe thead th {\n",
              "        text-align: right;\n",
              "    }\n",
              "</style>\n",
              "<table border=\"1\" class=\"dataframe\">\n",
              "  <thead>\n",
              "    <tr style=\"text-align: right;\">\n",
              "      <th></th>\n",
              "      <th>Fever</th>\n",
              "      <th>Tiredness</th>\n",
              "      <th>Dry-Cough</th>\n",
              "      <th>Difficulty-in-Breathing</th>\n",
              "      <th>Sore-Throat</th>\n",
              "      <th>None_Sympton</th>\n",
              "      <th>Pains</th>\n",
              "      <th>Nasal-Congestion</th>\n",
              "      <th>Runny-Nose</th>\n",
              "      <th>Diarrhea</th>\n",
              "      <th>None_Experiencing</th>\n",
              "      <th>Age_0-9</th>\n",
              "      <th>Age_10-19</th>\n",
              "      <th>Age_20-24</th>\n",
              "      <th>Age_25-59</th>\n",
              "      <th>Age_60+</th>\n",
              "      <th>Gender_Female</th>\n",
              "      <th>Gender_Male</th>\n",
              "      <th>Gender_Transgender</th>\n",
              "      <th>Severity_Mild</th>\n",
              "      <th>Severity_Moderate</th>\n",
              "      <th>Severity_None</th>\n",
              "      <th>Severity_Severe</th>\n",
              "      <th>Contact_Dont-Know</th>\n",
              "      <th>Contact_No</th>\n",
              "      <th>Contact_Yes</th>\n",
              "      <th>Country</th>\n",
              "    </tr>\n",
              "  </thead>\n",
              "  <tbody>\n",
              "    <tr>\n",
              "      <th>0</th>\n",
              "      <td>1</td>\n",
              "      <td>1</td>\n",
              "      <td>1</td>\n",
              "      <td>1</td>\n",
              "      <td>1</td>\n",
              "      <td>0</td>\n",
              "      <td>1</td>\n",
              "      <td>1</td>\n",
              "      <td>1</td>\n",
              "      <td>1</td>\n",
              "      <td>0</td>\n",
              "      <td>1</td>\n",
              "      <td>0</td>\n",
              "      <td>0</td>\n",
              "      <td>0</td>\n",
              "      <td>0</td>\n",
              "      <td>0</td>\n",
              "      <td>1</td>\n",
              "      <td>0</td>\n",
              "      <td>1</td>\n",
              "      <td>0</td>\n",
              "      <td>0</td>\n",
              "      <td>0</td>\n",
              "      <td>0</td>\n",
              "      <td>0</td>\n",
              "      <td>1</td>\n",
              "      <td>China</td>\n",
              "    </tr>\n",
              "    <tr>\n",
              "      <th>1</th>\n",
              "      <td>1</td>\n",
              "      <td>1</td>\n",
              "      <td>1</td>\n",
              "      <td>1</td>\n",
              "      <td>1</td>\n",
              "      <td>0</td>\n",
              "      <td>1</td>\n",
              "      <td>1</td>\n",
              "      <td>1</td>\n",
              "      <td>1</td>\n",
              "      <td>0</td>\n",
              "      <td>1</td>\n",
              "      <td>0</td>\n",
              "      <td>0</td>\n",
              "      <td>0</td>\n",
              "      <td>0</td>\n",
              "      <td>0</td>\n",
              "      <td>1</td>\n",
              "      <td>0</td>\n",
              "      <td>1</td>\n",
              "      <td>0</td>\n",
              "      <td>0</td>\n",
              "      <td>0</td>\n",
              "      <td>0</td>\n",
              "      <td>1</td>\n",
              "      <td>0</td>\n",
              "      <td>China</td>\n",
              "    </tr>\n",
              "    <tr>\n",
              "      <th>2</th>\n",
              "      <td>1</td>\n",
              "      <td>1</td>\n",
              "      <td>1</td>\n",
              "      <td>1</td>\n",
              "      <td>1</td>\n",
              "      <td>0</td>\n",
              "      <td>1</td>\n",
              "      <td>1</td>\n",
              "      <td>1</td>\n",
              "      <td>1</td>\n",
              "      <td>0</td>\n",
              "      <td>1</td>\n",
              "      <td>0</td>\n",
              "      <td>0</td>\n",
              "      <td>0</td>\n",
              "      <td>0</td>\n",
              "      <td>0</td>\n",
              "      <td>1</td>\n",
              "      <td>0</td>\n",
              "      <td>1</td>\n",
              "      <td>0</td>\n",
              "      <td>0</td>\n",
              "      <td>0</td>\n",
              "      <td>1</td>\n",
              "      <td>0</td>\n",
              "      <td>0</td>\n",
              "      <td>China</td>\n",
              "    </tr>\n",
              "    <tr>\n",
              "      <th>3</th>\n",
              "      <td>1</td>\n",
              "      <td>1</td>\n",
              "      <td>1</td>\n",
              "      <td>1</td>\n",
              "      <td>1</td>\n",
              "      <td>0</td>\n",
              "      <td>1</td>\n",
              "      <td>1</td>\n",
              "      <td>1</td>\n",
              "      <td>1</td>\n",
              "      <td>0</td>\n",
              "      <td>1</td>\n",
              "      <td>0</td>\n",
              "      <td>0</td>\n",
              "      <td>0</td>\n",
              "      <td>0</td>\n",
              "      <td>0</td>\n",
              "      <td>1</td>\n",
              "      <td>0</td>\n",
              "      <td>0</td>\n",
              "      <td>1</td>\n",
              "      <td>0</td>\n",
              "      <td>0</td>\n",
              "      <td>0</td>\n",
              "      <td>0</td>\n",
              "      <td>1</td>\n",
              "      <td>China</td>\n",
              "    </tr>\n",
              "    <tr>\n",
              "      <th>4</th>\n",
              "      <td>1</td>\n",
              "      <td>1</td>\n",
              "      <td>1</td>\n",
              "      <td>1</td>\n",
              "      <td>1</td>\n",
              "      <td>0</td>\n",
              "      <td>1</td>\n",
              "      <td>1</td>\n",
              "      <td>1</td>\n",
              "      <td>1</td>\n",
              "      <td>0</td>\n",
              "      <td>1</td>\n",
              "      <td>0</td>\n",
              "      <td>0</td>\n",
              "      <td>0</td>\n",
              "      <td>0</td>\n",
              "      <td>0</td>\n",
              "      <td>1</td>\n",
              "      <td>0</td>\n",
              "      <td>0</td>\n",
              "      <td>1</td>\n",
              "      <td>0</td>\n",
              "      <td>0</td>\n",
              "      <td>0</td>\n",
              "      <td>1</td>\n",
              "      <td>0</td>\n",
              "      <td>China</td>\n",
              "    </tr>\n",
              "    <tr>\n",
              "      <th>...</th>\n",
              "      <td>...</td>\n",
              "      <td>...</td>\n",
              "      <td>...</td>\n",
              "      <td>...</td>\n",
              "      <td>...</td>\n",
              "      <td>...</td>\n",
              "      <td>...</td>\n",
              "      <td>...</td>\n",
              "      <td>...</td>\n",
              "      <td>...</td>\n",
              "      <td>...</td>\n",
              "      <td>...</td>\n",
              "      <td>...</td>\n",
              "      <td>...</td>\n",
              "      <td>...</td>\n",
              "      <td>...</td>\n",
              "      <td>...</td>\n",
              "      <td>...</td>\n",
              "      <td>...</td>\n",
              "      <td>...</td>\n",
              "      <td>...</td>\n",
              "      <td>...</td>\n",
              "      <td>...</td>\n",
              "      <td>...</td>\n",
              "      <td>...</td>\n",
              "      <td>...</td>\n",
              "      <td>...</td>\n",
              "    </tr>\n",
              "    <tr>\n",
              "      <th>316795</th>\n",
              "      <td>0</td>\n",
              "      <td>0</td>\n",
              "      <td>0</td>\n",
              "      <td>0</td>\n",
              "      <td>0</td>\n",
              "      <td>1</td>\n",
              "      <td>0</td>\n",
              "      <td>0</td>\n",
              "      <td>0</td>\n",
              "      <td>0</td>\n",
              "      <td>1</td>\n",
              "      <td>0</td>\n",
              "      <td>0</td>\n",
              "      <td>0</td>\n",
              "      <td>0</td>\n",
              "      <td>1</td>\n",
              "      <td>0</td>\n",
              "      <td>0</td>\n",
              "      <td>1</td>\n",
              "      <td>0</td>\n",
              "      <td>0</td>\n",
              "      <td>0</td>\n",
              "      <td>1</td>\n",
              "      <td>0</td>\n",
              "      <td>1</td>\n",
              "      <td>0</td>\n",
              "      <td>Other</td>\n",
              "    </tr>\n",
              "    <tr>\n",
              "      <th>316796</th>\n",
              "      <td>0</td>\n",
              "      <td>0</td>\n",
              "      <td>0</td>\n",
              "      <td>0</td>\n",
              "      <td>0</td>\n",
              "      <td>1</td>\n",
              "      <td>0</td>\n",
              "      <td>0</td>\n",
              "      <td>0</td>\n",
              "      <td>0</td>\n",
              "      <td>1</td>\n",
              "      <td>0</td>\n",
              "      <td>0</td>\n",
              "      <td>0</td>\n",
              "      <td>0</td>\n",
              "      <td>1</td>\n",
              "      <td>0</td>\n",
              "      <td>0</td>\n",
              "      <td>1</td>\n",
              "      <td>0</td>\n",
              "      <td>0</td>\n",
              "      <td>0</td>\n",
              "      <td>1</td>\n",
              "      <td>1</td>\n",
              "      <td>0</td>\n",
              "      <td>0</td>\n",
              "      <td>Other</td>\n",
              "    </tr>\n",
              "    <tr>\n",
              "      <th>316797</th>\n",
              "      <td>0</td>\n",
              "      <td>0</td>\n",
              "      <td>0</td>\n",
              "      <td>0</td>\n",
              "      <td>0</td>\n",
              "      <td>1</td>\n",
              "      <td>0</td>\n",
              "      <td>0</td>\n",
              "      <td>0</td>\n",
              "      <td>0</td>\n",
              "      <td>1</td>\n",
              "      <td>0</td>\n",
              "      <td>0</td>\n",
              "      <td>0</td>\n",
              "      <td>0</td>\n",
              "      <td>1</td>\n",
              "      <td>0</td>\n",
              "      <td>0</td>\n",
              "      <td>1</td>\n",
              "      <td>0</td>\n",
              "      <td>0</td>\n",
              "      <td>1</td>\n",
              "      <td>0</td>\n",
              "      <td>0</td>\n",
              "      <td>0</td>\n",
              "      <td>1</td>\n",
              "      <td>Other</td>\n",
              "    </tr>\n",
              "    <tr>\n",
              "      <th>316798</th>\n",
              "      <td>0</td>\n",
              "      <td>0</td>\n",
              "      <td>0</td>\n",
              "      <td>0</td>\n",
              "      <td>0</td>\n",
              "      <td>1</td>\n",
              "      <td>0</td>\n",
              "      <td>0</td>\n",
              "      <td>0</td>\n",
              "      <td>0</td>\n",
              "      <td>1</td>\n",
              "      <td>0</td>\n",
              "      <td>0</td>\n",
              "      <td>0</td>\n",
              "      <td>0</td>\n",
              "      <td>1</td>\n",
              "      <td>0</td>\n",
              "      <td>0</td>\n",
              "      <td>1</td>\n",
              "      <td>0</td>\n",
              "      <td>0</td>\n",
              "      <td>1</td>\n",
              "      <td>0</td>\n",
              "      <td>0</td>\n",
              "      <td>1</td>\n",
              "      <td>0</td>\n",
              "      <td>Other</td>\n",
              "    </tr>\n",
              "    <tr>\n",
              "      <th>316799</th>\n",
              "      <td>0</td>\n",
              "      <td>0</td>\n",
              "      <td>0</td>\n",
              "      <td>0</td>\n",
              "      <td>0</td>\n",
              "      <td>1</td>\n",
              "      <td>0</td>\n",
              "      <td>0</td>\n",
              "      <td>0</td>\n",
              "      <td>0</td>\n",
              "      <td>1</td>\n",
              "      <td>0</td>\n",
              "      <td>0</td>\n",
              "      <td>0</td>\n",
              "      <td>0</td>\n",
              "      <td>1</td>\n",
              "      <td>0</td>\n",
              "      <td>0</td>\n",
              "      <td>1</td>\n",
              "      <td>0</td>\n",
              "      <td>0</td>\n",
              "      <td>1</td>\n",
              "      <td>0</td>\n",
              "      <td>1</td>\n",
              "      <td>0</td>\n",
              "      <td>0</td>\n",
              "      <td>Other</td>\n",
              "    </tr>\n",
              "  </tbody>\n",
              "</table>\n",
              "<p>316800 rows × 27 columns</p>\n",
              "</div>\n",
              "      <button class=\"colab-df-convert\" onclick=\"convertToInteractive('df-ede4790f-da06-46f2-b732-093549124fb1')\"\n",
              "              title=\"Convert this dataframe to an interactive table.\"\n",
              "              style=\"display:none;\">\n",
              "        \n",
              "  <svg xmlns=\"http://www.w3.org/2000/svg\" height=\"24px\"viewBox=\"0 0 24 24\"\n",
              "       width=\"24px\">\n",
              "    <path d=\"M0 0h24v24H0V0z\" fill=\"none\"/>\n",
              "    <path d=\"M18.56 5.44l.94 2.06.94-2.06 2.06-.94-2.06-.94-.94-2.06-.94 2.06-2.06.94zm-11 1L8.5 8.5l.94-2.06 2.06-.94-2.06-.94L8.5 2.5l-.94 2.06-2.06.94zm10 10l.94 2.06.94-2.06 2.06-.94-2.06-.94-.94-2.06-.94 2.06-2.06.94z\"/><path d=\"M17.41 7.96l-1.37-1.37c-.4-.4-.92-.59-1.43-.59-.52 0-1.04.2-1.43.59L10.3 9.45l-7.72 7.72c-.78.78-.78 2.05 0 2.83L4 21.41c.39.39.9.59 1.41.59.51 0 1.02-.2 1.41-.59l7.78-7.78 2.81-2.81c.8-.78.8-2.07 0-2.86zM5.41 20L4 18.59l7.72-7.72 1.47 1.35L5.41 20z\"/>\n",
              "  </svg>\n",
              "      </button>\n",
              "      \n",
              "  <style>\n",
              "    .colab-df-container {\n",
              "      display:flex;\n",
              "      flex-wrap:wrap;\n",
              "      gap: 12px;\n",
              "    }\n",
              "\n",
              "    .colab-df-convert {\n",
              "      background-color: #E8F0FE;\n",
              "      border: none;\n",
              "      border-radius: 50%;\n",
              "      cursor: pointer;\n",
              "      display: none;\n",
              "      fill: #1967D2;\n",
              "      height: 32px;\n",
              "      padding: 0 0 0 0;\n",
              "      width: 32px;\n",
              "    }\n",
              "\n",
              "    .colab-df-convert:hover {\n",
              "      background-color: #E2EBFA;\n",
              "      box-shadow: 0px 1px 2px rgba(60, 64, 67, 0.3), 0px 1px 3px 1px rgba(60, 64, 67, 0.15);\n",
              "      fill: #174EA6;\n",
              "    }\n",
              "\n",
              "    [theme=dark] .colab-df-convert {\n",
              "      background-color: #3B4455;\n",
              "      fill: #D2E3FC;\n",
              "    }\n",
              "\n",
              "    [theme=dark] .colab-df-convert:hover {\n",
              "      background-color: #434B5C;\n",
              "      box-shadow: 0px 1px 3px 1px rgba(0, 0, 0, 0.15);\n",
              "      filter: drop-shadow(0px 1px 2px rgba(0, 0, 0, 0.3));\n",
              "      fill: #FFFFFF;\n",
              "    }\n",
              "  </style>\n",
              "\n",
              "      <script>\n",
              "        const buttonEl =\n",
              "          document.querySelector('#df-ede4790f-da06-46f2-b732-093549124fb1 button.colab-df-convert');\n",
              "        buttonEl.style.display =\n",
              "          google.colab.kernel.accessAllowed ? 'block' : 'none';\n",
              "\n",
              "        async function convertToInteractive(key) {\n",
              "          const element = document.querySelector('#df-ede4790f-da06-46f2-b732-093549124fb1');\n",
              "          const dataTable =\n",
              "            await google.colab.kernel.invokeFunction('convertToInteractive',\n",
              "                                                     [key], {});\n",
              "          if (!dataTable) return;\n",
              "\n",
              "          const docLinkHtml = 'Like what you see? Visit the ' +\n",
              "            '<a target=\"_blank\" href=https://colab.research.google.com/notebooks/data_table.ipynb>data table notebook</a>'\n",
              "            + ' to learn more about interactive tables.';\n",
              "          element.innerHTML = '';\n",
              "          dataTable['output_type'] = 'display_data';\n",
              "          await google.colab.output.renderOutput(dataTable, element);\n",
              "          const docLink = document.createElement('div');\n",
              "          docLink.innerHTML = docLinkHtml;\n",
              "          element.appendChild(docLink);\n",
              "        }\n",
              "      </script>\n",
              "    </div>\n",
              "  </div>\n",
              "  "
            ],
            "text/plain": [
              "        Fever  Tiredness  Dry-Cough  Difficulty-in-Breathing  Sore-Throat  \\\n",
              "0           1          1          1                        1            1   \n",
              "1           1          1          1                        1            1   \n",
              "2           1          1          1                        1            1   \n",
              "3           1          1          1                        1            1   \n",
              "4           1          1          1                        1            1   \n",
              "...       ...        ...        ...                      ...          ...   \n",
              "316795      0          0          0                        0            0   \n",
              "316796      0          0          0                        0            0   \n",
              "316797      0          0          0                        0            0   \n",
              "316798      0          0          0                        0            0   \n",
              "316799      0          0          0                        0            0   \n",
              "\n",
              "        None_Sympton  Pains  Nasal-Congestion  Runny-Nose  Diarrhea  \\\n",
              "0                  0      1                 1           1         1   \n",
              "1                  0      1                 1           1         1   \n",
              "2                  0      1                 1           1         1   \n",
              "3                  0      1                 1           1         1   \n",
              "4                  0      1                 1           1         1   \n",
              "...              ...    ...               ...         ...       ...   \n",
              "316795             1      0                 0           0         0   \n",
              "316796             1      0                 0           0         0   \n",
              "316797             1      0                 0           0         0   \n",
              "316798             1      0                 0           0         0   \n",
              "316799             1      0                 0           0         0   \n",
              "\n",
              "        None_Experiencing  Age_0-9  Age_10-19  Age_20-24  Age_25-59  Age_60+  \\\n",
              "0                       0        1          0          0          0        0   \n",
              "1                       0        1          0          0          0        0   \n",
              "2                       0        1          0          0          0        0   \n",
              "3                       0        1          0          0          0        0   \n",
              "4                       0        1          0          0          0        0   \n",
              "...                   ...      ...        ...        ...        ...      ...   \n",
              "316795                  1        0          0          0          0        1   \n",
              "316796                  1        0          0          0          0        1   \n",
              "316797                  1        0          0          0          0        1   \n",
              "316798                  1        0          0          0          0        1   \n",
              "316799                  1        0          0          0          0        1   \n",
              "\n",
              "        Gender_Female  Gender_Male  Gender_Transgender  Severity_Mild  \\\n",
              "0                   0            1                   0              1   \n",
              "1                   0            1                   0              1   \n",
              "2                   0            1                   0              1   \n",
              "3                   0            1                   0              0   \n",
              "4                   0            1                   0              0   \n",
              "...               ...          ...                 ...            ...   \n",
              "316795              0            0                   1              0   \n",
              "316796              0            0                   1              0   \n",
              "316797              0            0                   1              0   \n",
              "316798              0            0                   1              0   \n",
              "316799              0            0                   1              0   \n",
              "\n",
              "        Severity_Moderate  Severity_None  Severity_Severe  Contact_Dont-Know  \\\n",
              "0                       0              0                0                  0   \n",
              "1                       0              0                0                  0   \n",
              "2                       0              0                0                  1   \n",
              "3                       1              0                0                  0   \n",
              "4                       1              0                0                  0   \n",
              "...                   ...            ...              ...                ...   \n",
              "316795                  0              0                1                  0   \n",
              "316796                  0              0                1                  1   \n",
              "316797                  0              1                0                  0   \n",
              "316798                  0              1                0                  0   \n",
              "316799                  0              1                0                  1   \n",
              "\n",
              "        Contact_No  Contact_Yes Country  \n",
              "0                0            1   China  \n",
              "1                1            0   China  \n",
              "2                0            0   China  \n",
              "3                0            1   China  \n",
              "4                1            0   China  \n",
              "...            ...          ...     ...  \n",
              "316795           1            0   Other  \n",
              "316796           0            0   Other  \n",
              "316797           0            1   Other  \n",
              "316798           1            0   Other  \n",
              "316799           0            0   Other  \n",
              "\n",
              "[316800 rows x 27 columns]"
            ]
          },
          "metadata": {}
        }
      ]
    },
    {
      "cell_type": "markdown",
      "source": [
        "### Size of data"
      ],
      "metadata": {
        "id": "Q4Sn_USnCHVY"
      }
    },
    {
      "cell_type": "code",
      "source": [
        "display(\"Shape of dataset\")\n",
        "print(\"Rows:\",df.shape[0],\"\\nColumns:\",df.shape[1])"
      ],
      "metadata": {
        "colab": {
          "base_uri": "https://localhost:8080/",
          "height": 70
        },
        "id": "aH5cKg2YCLx0",
        "outputId": "8579afaf-9652-46c6-bcdf-bc7e1389438f"
      },
      "execution_count": null,
      "outputs": [
        {
          "output_type": "display_data",
          "data": {
            "application/vnd.google.colaboratory.intrinsic+json": {
              "type": "string"
            },
            "text/plain": [
              "'Shape of dataset'"
            ]
          },
          "metadata": {}
        },
        {
          "output_type": "stream",
          "name": "stdout",
          "text": [
            "Rows: 316800 \n",
            "Columns: 27\n"
          ]
        }
      ]
    },
    {
      "cell_type": "markdown",
      "source": [
        "### null values"
      ],
      "metadata": {
        "id": "RlGT9whJCRdh"
      }
    },
    {
      "cell_type": "code",
      "source": [
        "display(\"NULL Values\", df.isnull().sum())"
      ],
      "metadata": {
        "colab": {
          "base_uri": "https://localhost:8080/",
          "height": 522
        },
        "id": "GbcDKQZGCUYW",
        "outputId": "c7cecbf7-f069-46bc-9cde-34cf098c5f3f"
      },
      "execution_count": null,
      "outputs": [
        {
          "output_type": "display_data",
          "data": {
            "application/vnd.google.colaboratory.intrinsic+json": {
              "type": "string"
            },
            "text/plain": [
              "'NULL Values'"
            ]
          },
          "metadata": {}
        },
        {
          "output_type": "display_data",
          "data": {
            "text/plain": [
              "Fever                      0\n",
              "Tiredness                  0\n",
              "Dry-Cough                  0\n",
              "Difficulty-in-Breathing    0\n",
              "Sore-Throat                0\n",
              "None_Sympton               0\n",
              "Pains                      0\n",
              "Nasal-Congestion           0\n",
              "Runny-Nose                 0\n",
              "Diarrhea                   0\n",
              "None_Experiencing          0\n",
              "Age_0-9                    0\n",
              "Age_10-19                  0\n",
              "Age_20-24                  0\n",
              "Age_25-59                  0\n",
              "Age_60+                    0\n",
              "Gender_Female              0\n",
              "Gender_Male                0\n",
              "Gender_Transgender         0\n",
              "Severity_Mild              0\n",
              "Severity_Moderate          0\n",
              "Severity_None              0\n",
              "Severity_Severe            0\n",
              "Contact_Dont-Know          0\n",
              "Contact_No                 0\n",
              "Contact_Yes                0\n",
              "Country                    0\n",
              "dtype: int64"
            ]
          },
          "metadata": {}
        }
      ]
    },
    {
      "cell_type": "code",
      "source": [
        "display(\"Description\",df.describe())"
      ],
      "metadata": {
        "colab": {
          "base_uri": "https://localhost:8080/",
          "height": 400
        },
        "id": "9nig3Gu7CU05",
        "outputId": "8da012e2-949a-4e33-f79e-b8e44c2e0206"
      },
      "execution_count": null,
      "outputs": [
        {
          "output_type": "display_data",
          "data": {
            "application/vnd.google.colaboratory.intrinsic+json": {
              "type": "string"
            },
            "text/plain": [
              "'Description'"
            ]
          },
          "metadata": {}
        },
        {
          "output_type": "display_data",
          "data": {
            "text/html": [
              "\n",
              "  <div id=\"df-c2c8ae41-77f0-4c20-82e1-7ac18d0fd4e8\">\n",
              "    <div class=\"colab-df-container\">\n",
              "      <div>\n",
              "<style scoped>\n",
              "    .dataframe tbody tr th:only-of-type {\n",
              "        vertical-align: middle;\n",
              "    }\n",
              "\n",
              "    .dataframe tbody tr th {\n",
              "        vertical-align: top;\n",
              "    }\n",
              "\n",
              "    .dataframe thead th {\n",
              "        text-align: right;\n",
              "    }\n",
              "</style>\n",
              "<table border=\"1\" class=\"dataframe\">\n",
              "  <thead>\n",
              "    <tr style=\"text-align: right;\">\n",
              "      <th></th>\n",
              "      <th>Fever</th>\n",
              "      <th>Tiredness</th>\n",
              "      <th>Dry-Cough</th>\n",
              "      <th>Difficulty-in-Breathing</th>\n",
              "      <th>Sore-Throat</th>\n",
              "      <th>None_Sympton</th>\n",
              "      <th>Pains</th>\n",
              "      <th>Nasal-Congestion</th>\n",
              "      <th>Runny-Nose</th>\n",
              "      <th>Diarrhea</th>\n",
              "      <th>None_Experiencing</th>\n",
              "      <th>Age_0-9</th>\n",
              "      <th>Age_10-19</th>\n",
              "      <th>Age_20-24</th>\n",
              "      <th>Age_25-59</th>\n",
              "      <th>Age_60+</th>\n",
              "      <th>Gender_Female</th>\n",
              "      <th>Gender_Male</th>\n",
              "      <th>Gender_Transgender</th>\n",
              "      <th>Severity_Mild</th>\n",
              "      <th>Severity_Moderate</th>\n",
              "      <th>Severity_None</th>\n",
              "      <th>Severity_Severe</th>\n",
              "      <th>Contact_Dont-Know</th>\n",
              "      <th>Contact_No</th>\n",
              "      <th>Contact_Yes</th>\n",
              "    </tr>\n",
              "  </thead>\n",
              "  <tbody>\n",
              "    <tr>\n",
              "      <th>count</th>\n",
              "      <td>316800.000000</td>\n",
              "      <td>316800.000000</td>\n",
              "      <td>316800.000000</td>\n",
              "      <td>316800.000000</td>\n",
              "      <td>316800.000000</td>\n",
              "      <td>316800.000000</td>\n",
              "      <td>316800.000000</td>\n",
              "      <td>316800.000000</td>\n",
              "      <td>316800.000000</td>\n",
              "      <td>316800.000000</td>\n",
              "      <td>316800.000000</td>\n",
              "      <td>316800.000000</td>\n",
              "      <td>316800.000000</td>\n",
              "      <td>316800.000000</td>\n",
              "      <td>316800.000000</td>\n",
              "      <td>316800.000000</td>\n",
              "      <td>316800.000000</td>\n",
              "      <td>316800.000000</td>\n",
              "      <td>316800.000000</td>\n",
              "      <td>316800.000000</td>\n",
              "      <td>316800.000000</td>\n",
              "      <td>316800.000000</td>\n",
              "      <td>316800.000000</td>\n",
              "      <td>316800.000000</td>\n",
              "      <td>316800.000000</td>\n",
              "      <td>316800.000000</td>\n",
              "    </tr>\n",
              "    <tr>\n",
              "      <th>mean</th>\n",
              "      <td>0.312500</td>\n",
              "      <td>0.500000</td>\n",
              "      <td>0.562500</td>\n",
              "      <td>0.500000</td>\n",
              "      <td>0.312500</td>\n",
              "      <td>0.062500</td>\n",
              "      <td>0.363636</td>\n",
              "      <td>0.545455</td>\n",
              "      <td>0.545455</td>\n",
              "      <td>0.363636</td>\n",
              "      <td>0.090909</td>\n",
              "      <td>0.200000</td>\n",
              "      <td>0.200000</td>\n",
              "      <td>0.200000</td>\n",
              "      <td>0.200000</td>\n",
              "      <td>0.200000</td>\n",
              "      <td>0.333333</td>\n",
              "      <td>0.333333</td>\n",
              "      <td>0.333333</td>\n",
              "      <td>0.250000</td>\n",
              "      <td>0.250000</td>\n",
              "      <td>0.250000</td>\n",
              "      <td>0.250000</td>\n",
              "      <td>0.333333</td>\n",
              "      <td>0.333333</td>\n",
              "      <td>0.333333</td>\n",
              "    </tr>\n",
              "    <tr>\n",
              "      <th>std</th>\n",
              "      <td>0.463513</td>\n",
              "      <td>0.500001</td>\n",
              "      <td>0.496079</td>\n",
              "      <td>0.500001</td>\n",
              "      <td>0.463513</td>\n",
              "      <td>0.242062</td>\n",
              "      <td>0.481046</td>\n",
              "      <td>0.497930</td>\n",
              "      <td>0.497930</td>\n",
              "      <td>0.481046</td>\n",
              "      <td>0.287480</td>\n",
              "      <td>0.400001</td>\n",
              "      <td>0.400001</td>\n",
              "      <td>0.400001</td>\n",
              "      <td>0.400001</td>\n",
              "      <td>0.400001</td>\n",
              "      <td>0.471405</td>\n",
              "      <td>0.471405</td>\n",
              "      <td>0.471405</td>\n",
              "      <td>0.433013</td>\n",
              "      <td>0.433013</td>\n",
              "      <td>0.433013</td>\n",
              "      <td>0.433013</td>\n",
              "      <td>0.471405</td>\n",
              "      <td>0.471405</td>\n",
              "      <td>0.471405</td>\n",
              "    </tr>\n",
              "    <tr>\n",
              "      <th>min</th>\n",
              "      <td>0.000000</td>\n",
              "      <td>0.000000</td>\n",
              "      <td>0.000000</td>\n",
              "      <td>0.000000</td>\n",
              "      <td>0.000000</td>\n",
              "      <td>0.000000</td>\n",
              "      <td>0.000000</td>\n",
              "      <td>0.000000</td>\n",
              "      <td>0.000000</td>\n",
              "      <td>0.000000</td>\n",
              "      <td>0.000000</td>\n",
              "      <td>0.000000</td>\n",
              "      <td>0.000000</td>\n",
              "      <td>0.000000</td>\n",
              "      <td>0.000000</td>\n",
              "      <td>0.000000</td>\n",
              "      <td>0.000000</td>\n",
              "      <td>0.000000</td>\n",
              "      <td>0.000000</td>\n",
              "      <td>0.000000</td>\n",
              "      <td>0.000000</td>\n",
              "      <td>0.000000</td>\n",
              "      <td>0.000000</td>\n",
              "      <td>0.000000</td>\n",
              "      <td>0.000000</td>\n",
              "      <td>0.000000</td>\n",
              "    </tr>\n",
              "    <tr>\n",
              "      <th>25%</th>\n",
              "      <td>0.000000</td>\n",
              "      <td>0.000000</td>\n",
              "      <td>0.000000</td>\n",
              "      <td>0.000000</td>\n",
              "      <td>0.000000</td>\n",
              "      <td>0.000000</td>\n",
              "      <td>0.000000</td>\n",
              "      <td>0.000000</td>\n",
              "      <td>0.000000</td>\n",
              "      <td>0.000000</td>\n",
              "      <td>0.000000</td>\n",
              "      <td>0.000000</td>\n",
              "      <td>0.000000</td>\n",
              "      <td>0.000000</td>\n",
              "      <td>0.000000</td>\n",
              "      <td>0.000000</td>\n",
              "      <td>0.000000</td>\n",
              "      <td>0.000000</td>\n",
              "      <td>0.000000</td>\n",
              "      <td>0.000000</td>\n",
              "      <td>0.000000</td>\n",
              "      <td>0.000000</td>\n",
              "      <td>0.000000</td>\n",
              "      <td>0.000000</td>\n",
              "      <td>0.000000</td>\n",
              "      <td>0.000000</td>\n",
              "    </tr>\n",
              "    <tr>\n",
              "      <th>50%</th>\n",
              "      <td>0.000000</td>\n",
              "      <td>0.500000</td>\n",
              "      <td>1.000000</td>\n",
              "      <td>0.500000</td>\n",
              "      <td>0.000000</td>\n",
              "      <td>0.000000</td>\n",
              "      <td>0.000000</td>\n",
              "      <td>1.000000</td>\n",
              "      <td>1.000000</td>\n",
              "      <td>0.000000</td>\n",
              "      <td>0.000000</td>\n",
              "      <td>0.000000</td>\n",
              "      <td>0.000000</td>\n",
              "      <td>0.000000</td>\n",
              "      <td>0.000000</td>\n",
              "      <td>0.000000</td>\n",
              "      <td>0.000000</td>\n",
              "      <td>0.000000</td>\n",
              "      <td>0.000000</td>\n",
              "      <td>0.000000</td>\n",
              "      <td>0.000000</td>\n",
              "      <td>0.000000</td>\n",
              "      <td>0.000000</td>\n",
              "      <td>0.000000</td>\n",
              "      <td>0.000000</td>\n",
              "      <td>0.000000</td>\n",
              "    </tr>\n",
              "    <tr>\n",
              "      <th>75%</th>\n",
              "      <td>1.000000</td>\n",
              "      <td>1.000000</td>\n",
              "      <td>1.000000</td>\n",
              "      <td>1.000000</td>\n",
              "      <td>1.000000</td>\n",
              "      <td>0.000000</td>\n",
              "      <td>1.000000</td>\n",
              "      <td>1.000000</td>\n",
              "      <td>1.000000</td>\n",
              "      <td>1.000000</td>\n",
              "      <td>0.000000</td>\n",
              "      <td>0.000000</td>\n",
              "      <td>0.000000</td>\n",
              "      <td>0.000000</td>\n",
              "      <td>0.000000</td>\n",
              "      <td>0.000000</td>\n",
              "      <td>1.000000</td>\n",
              "      <td>1.000000</td>\n",
              "      <td>1.000000</td>\n",
              "      <td>0.250000</td>\n",
              "      <td>0.250000</td>\n",
              "      <td>0.250000</td>\n",
              "      <td>0.250000</td>\n",
              "      <td>1.000000</td>\n",
              "      <td>1.000000</td>\n",
              "      <td>1.000000</td>\n",
              "    </tr>\n",
              "    <tr>\n",
              "      <th>max</th>\n",
              "      <td>1.000000</td>\n",
              "      <td>1.000000</td>\n",
              "      <td>1.000000</td>\n",
              "      <td>1.000000</td>\n",
              "      <td>1.000000</td>\n",
              "      <td>1.000000</td>\n",
              "      <td>1.000000</td>\n",
              "      <td>1.000000</td>\n",
              "      <td>1.000000</td>\n",
              "      <td>1.000000</td>\n",
              "      <td>1.000000</td>\n",
              "      <td>1.000000</td>\n",
              "      <td>1.000000</td>\n",
              "      <td>1.000000</td>\n",
              "      <td>1.000000</td>\n",
              "      <td>1.000000</td>\n",
              "      <td>1.000000</td>\n",
              "      <td>1.000000</td>\n",
              "      <td>1.000000</td>\n",
              "      <td>1.000000</td>\n",
              "      <td>1.000000</td>\n",
              "      <td>1.000000</td>\n",
              "      <td>1.000000</td>\n",
              "      <td>1.000000</td>\n",
              "      <td>1.000000</td>\n",
              "      <td>1.000000</td>\n",
              "    </tr>\n",
              "  </tbody>\n",
              "</table>\n",
              "</div>\n",
              "      <button class=\"colab-df-convert\" onclick=\"convertToInteractive('df-c2c8ae41-77f0-4c20-82e1-7ac18d0fd4e8')\"\n",
              "              title=\"Convert this dataframe to an interactive table.\"\n",
              "              style=\"display:none;\">\n",
              "        \n",
              "  <svg xmlns=\"http://www.w3.org/2000/svg\" height=\"24px\"viewBox=\"0 0 24 24\"\n",
              "       width=\"24px\">\n",
              "    <path d=\"M0 0h24v24H0V0z\" fill=\"none\"/>\n",
              "    <path d=\"M18.56 5.44l.94 2.06.94-2.06 2.06-.94-2.06-.94-.94-2.06-.94 2.06-2.06.94zm-11 1L8.5 8.5l.94-2.06 2.06-.94-2.06-.94L8.5 2.5l-.94 2.06-2.06.94zm10 10l.94 2.06.94-2.06 2.06-.94-2.06-.94-.94-2.06-.94 2.06-2.06.94z\"/><path d=\"M17.41 7.96l-1.37-1.37c-.4-.4-.92-.59-1.43-.59-.52 0-1.04.2-1.43.59L10.3 9.45l-7.72 7.72c-.78.78-.78 2.05 0 2.83L4 21.41c.39.39.9.59 1.41.59.51 0 1.02-.2 1.41-.59l7.78-7.78 2.81-2.81c.8-.78.8-2.07 0-2.86zM5.41 20L4 18.59l7.72-7.72 1.47 1.35L5.41 20z\"/>\n",
              "  </svg>\n",
              "      </button>\n",
              "      \n",
              "  <style>\n",
              "    .colab-df-container {\n",
              "      display:flex;\n",
              "      flex-wrap:wrap;\n",
              "      gap: 12px;\n",
              "    }\n",
              "\n",
              "    .colab-df-convert {\n",
              "      background-color: #E8F0FE;\n",
              "      border: none;\n",
              "      border-radius: 50%;\n",
              "      cursor: pointer;\n",
              "      display: none;\n",
              "      fill: #1967D2;\n",
              "      height: 32px;\n",
              "      padding: 0 0 0 0;\n",
              "      width: 32px;\n",
              "    }\n",
              "\n",
              "    .colab-df-convert:hover {\n",
              "      background-color: #E2EBFA;\n",
              "      box-shadow: 0px 1px 2px rgba(60, 64, 67, 0.3), 0px 1px 3px 1px rgba(60, 64, 67, 0.15);\n",
              "      fill: #174EA6;\n",
              "    }\n",
              "\n",
              "    [theme=dark] .colab-df-convert {\n",
              "      background-color: #3B4455;\n",
              "      fill: #D2E3FC;\n",
              "    }\n",
              "\n",
              "    [theme=dark] .colab-df-convert:hover {\n",
              "      background-color: #434B5C;\n",
              "      box-shadow: 0px 1px 3px 1px rgba(0, 0, 0, 0.15);\n",
              "      filter: drop-shadow(0px 1px 2px rgba(0, 0, 0, 0.3));\n",
              "      fill: #FFFFFF;\n",
              "    }\n",
              "  </style>\n",
              "\n",
              "      <script>\n",
              "        const buttonEl =\n",
              "          document.querySelector('#df-c2c8ae41-77f0-4c20-82e1-7ac18d0fd4e8 button.colab-df-convert');\n",
              "        buttonEl.style.display =\n",
              "          google.colab.kernel.accessAllowed ? 'block' : 'none';\n",
              "\n",
              "        async function convertToInteractive(key) {\n",
              "          const element = document.querySelector('#df-c2c8ae41-77f0-4c20-82e1-7ac18d0fd4e8');\n",
              "          const dataTable =\n",
              "            await google.colab.kernel.invokeFunction('convertToInteractive',\n",
              "                                                     [key], {});\n",
              "          if (!dataTable) return;\n",
              "\n",
              "          const docLinkHtml = 'Like what you see? Visit the ' +\n",
              "            '<a target=\"_blank\" href=https://colab.research.google.com/notebooks/data_table.ipynb>data table notebook</a>'\n",
              "            + ' to learn more about interactive tables.';\n",
              "          element.innerHTML = '';\n",
              "          dataTable['output_type'] = 'display_data';\n",
              "          await google.colab.output.renderOutput(dataTable, element);\n",
              "          const docLink = document.createElement('div');\n",
              "          docLink.innerHTML = docLinkHtml;\n",
              "          element.appendChild(docLink);\n",
              "        }\n",
              "      </script>\n",
              "    </div>\n",
              "  </div>\n",
              "  "
            ],
            "text/plain": [
              "               Fever      Tiredness      Dry-Cough  Difficulty-in-Breathing  \\\n",
              "count  316800.000000  316800.000000  316800.000000            316800.000000   \n",
              "mean        0.312500       0.500000       0.562500                 0.500000   \n",
              "std         0.463513       0.500001       0.496079                 0.500001   \n",
              "min         0.000000       0.000000       0.000000                 0.000000   \n",
              "25%         0.000000       0.000000       0.000000                 0.000000   \n",
              "50%         0.000000       0.500000       1.000000                 0.500000   \n",
              "75%         1.000000       1.000000       1.000000                 1.000000   \n",
              "max         1.000000       1.000000       1.000000                 1.000000   \n",
              "\n",
              "         Sore-Throat   None_Sympton          Pains  Nasal-Congestion  \\\n",
              "count  316800.000000  316800.000000  316800.000000     316800.000000   \n",
              "mean        0.312500       0.062500       0.363636          0.545455   \n",
              "std         0.463513       0.242062       0.481046          0.497930   \n",
              "min         0.000000       0.000000       0.000000          0.000000   \n",
              "25%         0.000000       0.000000       0.000000          0.000000   \n",
              "50%         0.000000       0.000000       0.000000          1.000000   \n",
              "75%         1.000000       0.000000       1.000000          1.000000   \n",
              "max         1.000000       1.000000       1.000000          1.000000   \n",
              "\n",
              "          Runny-Nose       Diarrhea  None_Experiencing        Age_0-9  \\\n",
              "count  316800.000000  316800.000000      316800.000000  316800.000000   \n",
              "mean        0.545455       0.363636           0.090909       0.200000   \n",
              "std         0.497930       0.481046           0.287480       0.400001   \n",
              "min         0.000000       0.000000           0.000000       0.000000   \n",
              "25%         0.000000       0.000000           0.000000       0.000000   \n",
              "50%         1.000000       0.000000           0.000000       0.000000   \n",
              "75%         1.000000       1.000000           0.000000       0.000000   \n",
              "max         1.000000       1.000000           1.000000       1.000000   \n",
              "\n",
              "           Age_10-19      Age_20-24      Age_25-59        Age_60+  \\\n",
              "count  316800.000000  316800.000000  316800.000000  316800.000000   \n",
              "mean        0.200000       0.200000       0.200000       0.200000   \n",
              "std         0.400001       0.400001       0.400001       0.400001   \n",
              "min         0.000000       0.000000       0.000000       0.000000   \n",
              "25%         0.000000       0.000000       0.000000       0.000000   \n",
              "50%         0.000000       0.000000       0.000000       0.000000   \n",
              "75%         0.000000       0.000000       0.000000       0.000000   \n",
              "max         1.000000       1.000000       1.000000       1.000000   \n",
              "\n",
              "       Gender_Female    Gender_Male  Gender_Transgender  Severity_Mild  \\\n",
              "count  316800.000000  316800.000000       316800.000000  316800.000000   \n",
              "mean        0.333333       0.333333            0.333333       0.250000   \n",
              "std         0.471405       0.471405            0.471405       0.433013   \n",
              "min         0.000000       0.000000            0.000000       0.000000   \n",
              "25%         0.000000       0.000000            0.000000       0.000000   \n",
              "50%         0.000000       0.000000            0.000000       0.000000   \n",
              "75%         1.000000       1.000000            1.000000       0.250000   \n",
              "max         1.000000       1.000000            1.000000       1.000000   \n",
              "\n",
              "       Severity_Moderate  Severity_None  Severity_Severe  Contact_Dont-Know  \\\n",
              "count      316800.000000  316800.000000    316800.000000      316800.000000   \n",
              "mean            0.250000       0.250000         0.250000           0.333333   \n",
              "std             0.433013       0.433013         0.433013           0.471405   \n",
              "min             0.000000       0.000000         0.000000           0.000000   \n",
              "25%             0.000000       0.000000         0.000000           0.000000   \n",
              "50%             0.000000       0.000000         0.000000           0.000000   \n",
              "75%             0.250000       0.250000         0.250000           1.000000   \n",
              "max             1.000000       1.000000         1.000000           1.000000   \n",
              "\n",
              "          Contact_No    Contact_Yes  \n",
              "count  316800.000000  316800.000000  \n",
              "mean        0.333333       0.333333  \n",
              "std         0.471405       0.471405  \n",
              "min         0.000000       0.000000  \n",
              "25%         0.000000       0.000000  \n",
              "50%         0.000000       0.000000  \n",
              "75%         1.000000       1.000000  \n",
              "max         1.000000       1.000000  "
            ]
          },
          "metadata": {}
        }
      ]
    },
    {
      "cell_type": "code",
      "source": [
        "df.info()"
      ],
      "metadata": {
        "colab": {
          "base_uri": "https://localhost:8080/"
        },
        "id": "te-ed6AQCZ7G",
        "outputId": "b3be523c-cf1e-4692-fc93-99604dd11fbb"
      },
      "execution_count": null,
      "outputs": [
        {
          "output_type": "stream",
          "name": "stdout",
          "text": [
            "<class 'pandas.core.frame.DataFrame'>\n",
            "RangeIndex: 316800 entries, 0 to 316799\n",
            "Data columns (total 27 columns):\n",
            " #   Column                   Non-Null Count   Dtype \n",
            "---  ------                   --------------   ----- \n",
            " 0   Fever                    316800 non-null  int64 \n",
            " 1   Tiredness                316800 non-null  int64 \n",
            " 2   Dry-Cough                316800 non-null  int64 \n",
            " 3   Difficulty-in-Breathing  316800 non-null  int64 \n",
            " 4   Sore-Throat              316800 non-null  int64 \n",
            " 5   None_Sympton             316800 non-null  int64 \n",
            " 6   Pains                    316800 non-null  int64 \n",
            " 7   Nasal-Congestion         316800 non-null  int64 \n",
            " 8   Runny-Nose               316800 non-null  int64 \n",
            " 9   Diarrhea                 316800 non-null  int64 \n",
            " 10  None_Experiencing        316800 non-null  int64 \n",
            " 11  Age_0-9                  316800 non-null  int64 \n",
            " 12  Age_10-19                316800 non-null  int64 \n",
            " 13  Age_20-24                316800 non-null  int64 \n",
            " 14  Age_25-59                316800 non-null  int64 \n",
            " 15  Age_60+                  316800 non-null  int64 \n",
            " 16  Gender_Female            316800 non-null  int64 \n",
            " 17  Gender_Male              316800 non-null  int64 \n",
            " 18  Gender_Transgender       316800 non-null  int64 \n",
            " 19  Severity_Mild            316800 non-null  int64 \n",
            " 20  Severity_Moderate        316800 non-null  int64 \n",
            " 21  Severity_None            316800 non-null  int64 \n",
            " 22  Severity_Severe          316800 non-null  int64 \n",
            " 23  Contact_Dont-Know        316800 non-null  int64 \n",
            " 24  Contact_No               316800 non-null  int64 \n",
            " 25  Contact_Yes              316800 non-null  int64 \n",
            " 26  Country                  316800 non-null  object\n",
            "dtypes: int64(26), object(1)\n",
            "memory usage: 65.3+ MB\n"
          ]
        }
      ]
    },
    {
      "cell_type": "markdown",
      "source": [
        "### Checking distribution of data"
      ],
      "metadata": {
        "id": "6sDf81XjCozU"
      }
    },
    {
      "cell_type": "code",
      "source": [
        "#df = df.drop('Country',axis=1)\n",
        "sns.distplot(df.drop('Country',axis=1))"
      ],
      "metadata": {
        "colab": {
          "base_uri": "https://localhost:8080/",
          "height": 282
        },
        "id": "VJ9dUKTfCfTD",
        "outputId": "d9f5268f-998f-4d66-a184-264e6859f08e"
      },
      "execution_count": null,
      "outputs": [
        {
          "output_type": "execute_result",
          "data": {
            "text/plain": [
              "<matplotlib.axes._subplots.AxesSubplot at 0x7ff1de9a5790>"
            ]
          },
          "metadata": {},
          "execution_count": 12
        },
        {
          "output_type": "display_data",
          "data": {
            "image/png": "[encoded data removed]",
            "text/plain": [
              "<Figure size 432x288 with 1 Axes>"
            ]
          },
          "metadata": {
            "needs_background": "light"
          }
        }
      ]
    },
    {
      "cell_type": "code",
      "source": [
        "for i in df.columns:\n",
        "    print(\"\\nColumn Name:\",i,\"-->\",df[i].unique(),\"-->Unique Count\",len(df[i].unique()))"
      ],
      "metadata": {
        "colab": {
          "base_uri": "https://localhost:8080/"
        },
        "id": "uho3ZwtRCvll",
        "outputId": "fa91a153-989f-474f-c794-82d01a547c96"
      },
      "execution_count": null,
      "outputs": [
        {
          "output_type": "stream",
          "name": "stdout",
          "text": [
            "\n",
            "Column Name: Fever --> [1 0] -->Unique Count 2\n",
            "\n",
            "Column Name: Tiredness --> [1 0] -->Unique Count 2\n",
            "\n",
            "Column Name: Dry-Cough --> [1 0] -->Unique Count 2\n",
            "\n",
            "Column Name: Difficulty-in-Breathing --> [1 0] -->Unique Count 2\n",
            "\n",
            "Column Name: Sore-Throat --> [1 0] -->Unique Count 2\n",
            "\n",
            "Column Name: None_Sympton --> [0 1] -->Unique Count 2\n",
            "\n",
            "Column Name: Pains --> [1 0] -->Unique Count 2\n",
            "\n",
            "Column Name: Nasal-Congestion --> [1 0] -->Unique Count 2\n",
            "\n",
            "Column Name: Runny-Nose --> [1 0] -->Unique Count 2\n",
            "\n",
            "Column Name: Diarrhea --> [1 0] -->Unique Count 2\n",
            "\n",
            "Column Name: None_Experiencing --> [0 1] -->Unique Count 2\n",
            "\n",
            "Column Name: Age_0-9 --> [1 0] -->Unique Count 2\n",
            "\n",
            "Column Name: Age_10-19 --> [0 1] -->Unique Count 2\n",
            "\n",
            "Column Name: Age_20-24 --> [0 1] -->Unique Count 2\n",
            "\n",
            "Column Name: Age_25-59 --> [0 1] -->Unique Count 2\n",
            "\n",
            "Column Name: Age_60+ --> [0 1] -->Unique Count 2\n",
            "\n",
            "Column Name: Gender_Female --> [0 1] -->Unique Count 2\n",
            "\n",
            "Column Name: Gender_Male --> [1 0] -->Unique Count 2\n",
            "\n",
            "Column Name: Gender_Transgender --> [0 1] -->Unique Count 2\n",
            "\n",
            "Column Name: Severity_Mild --> [1 0] -->Unique Count 2\n",
            "\n",
            "Column Name: Severity_Moderate --> [0 1] -->Unique Count 2\n",
            "\n",
            "Column Name: Severity_None --> [0 1] -->Unique Count 2\n",
            "\n",
            "Column Name: Severity_Severe --> [0 1] -->Unique Count 2\n",
            "\n",
            "Column Name: Contact_Dont-Know --> [0 1] -->Unique Count 2\n",
            "\n",
            "Column Name: Contact_No --> [0 1] -->Unique Count 2\n",
            "\n",
            "Column Name: Contact_Yes --> [1 0] -->Unique Count 2\n",
            "\n",
            "Column Name: Country --> ['China' 'Italy' 'Iran' 'Republic of Korean' 'France' 'Spain' 'Germany'\n",
            " 'UAE' 'Other-EUR' 'Other'] -->Unique Count 10\n"
          ]
        }
      ]
    },
    {
      "cell_type": "code",
      "source": [
        "severity_columns = df.filter(like='Severity_').columns"
      ],
      "metadata": {
        "id": "qbOIs9SfDt6u"
      },
      "execution_count": null,
      "outputs": []
    },
    {
      "cell_type": "code",
      "source": [
        "df['Severity_None'].replace({1:'None',0:'No'},inplace =True)\n",
        "df['Severity_Mild'].replace({1:'Mild',0:'No'},inplace =True)\n",
        "df['Severity_Moderate'].replace({1:'Moderate',0:'No'},inplace =True)\n",
        "df['Severity_Severe'].replace({1:'Severe',0:'No'},inplace =True)"
      ],
      "metadata": {
        "id": "_qjwv1TyD1Lx"
      },
      "execution_count": null,
      "outputs": []
    },
    {
      "cell_type": "code",
      "source": [
        "df['Condition']=df[severity_columns].values.tolist()"
      ],
      "metadata": {
        "id": "SyanLL7FD4v5"
      },
      "execution_count": null,
      "outputs": []
    },
    {
      "cell_type": "code",
      "source": [
        "def removing(list1):\n",
        "    list1 = set(list1) \n",
        "    list1.discard(\"No\")\n",
        "    a = ''.join(list1)\n",
        "    return a"
      ],
      "metadata": {
        "id": "LMgMZJimD8m-"
      },
      "execution_count": null,
      "outputs": []
    },
    {
      "cell_type": "code",
      "source": [
        "df['Condition'] = df['Condition'].apply(removing)"
      ],
      "metadata": {
        "id": "3uwJqnT2EASM"
      },
      "execution_count": null,
      "outputs": []
    },
    {
      "cell_type": "markdown",
      "source": [
        "### Grouping by severity"
      ],
      "metadata": {
        "id": "V3dT_OqGEJO9"
      }
    },
    {
      "cell_type": "code",
      "source": [
        "age_columns = df.filter(like='Age_').columns\n",
        "gender_columns = df.filter(like='Gender_').columns\n",
        "contact_columns = df.filter(like='Contact_').columns"
      ],
      "metadata": {
        "id": "Clr1EqN3EEb2"
      },
      "execution_count": null,
      "outputs": []
    },
    {
      "cell_type": "code",
      "source": [
        "No_risk_age = df.groupby(['Severity_None'])[age_columns].sum()\n",
        "No_risk_gender = df.groupby(['Severity_None'])[gender_columns].sum()\n",
        "No_risk_contact = df.groupby(['Severity_None'])[contact_columns].sum()"
      ],
      "metadata": {
        "id": "HSLRk3MOEN70"
      },
      "execution_count": null,
      "outputs": []
    },
    {
      "cell_type": "code",
      "source": [
        "Low_risk_age = df.groupby(['Severity_Mild'])[age_columns].sum()\n",
        "Low_risk_gender = df.groupby(['Severity_Mild'])[gender_columns].sum()\n",
        "Low_risk_contact = df.groupby(['Severity_Mild'])[contact_columns].sum()"
      ],
      "metadata": {
        "id": "Xw5Vhl1NERrL"
      },
      "execution_count": null,
      "outputs": []
    },
    {
      "cell_type": "code",
      "source": [
        "Moderate_risk_age = df.groupby(['Severity_Moderate'])[age_columns].sum()\n",
        "Moderate_risk_gender = df.groupby(['Severity_Moderate'])[gender_columns].sum()\n",
        "Moderate_risk_contact = df.groupby(['Severity_Moderate'])[contact_columns].sum()"
      ],
      "metadata": {
        "id": "CNgPStPpFEvO"
      },
      "execution_count": null,
      "outputs": []
    },
    {
      "cell_type": "code",
      "source": [
        "Severe_risk_age = df.groupby(['Severity_Severe'])[age_columns].sum()\n",
        "Severe_risk_gender = df.groupby(['Severity_Severe'])[gender_columns].sum()\n",
        "Severe_risk_contact = df.groupby(['Severity_Severe'])[contact_columns].sum()"
      ],
      "metadata": {
        "id": "y6HndeJHFUUx"
      },
      "execution_count": null,
      "outputs": []
    },
    {
      "cell_type": "code",
      "source": [
        "sns.countplot(df['Condition'])"
      ],
      "metadata": {
        "colab": {
          "base_uri": "https://localhost:8080/",
          "height": 296
        },
        "id": "3sWNey2-FXhC",
        "outputId": "449af4c1-e315-4ff5-c332-10f8e51d62b8"
      },
      "execution_count": null,
      "outputs": [
        {
          "output_type": "execute_result",
          "data": {
            "text/plain": [
              "<matplotlib.axes._subplots.AxesSubplot at 0x7ff1dcee5090>"
            ]
          },
          "metadata": {},
          "execution_count": 24
        },
        {
          "output_type": "display_data",
          "data": {
            "image/png": "[encoded data removed]",
            "text/plain": [
              "<Figure size 432x288 with 1 Axes>"
            ]
          },
          "metadata": {
            "needs_background": "light"
          }
        }
      ]
    },
    {
      "cell_type": "markdown",
      "source": [
        "# Preprocessing"
      ],
      "metadata": {
        "id": "usiKI9gSFgsY"
      }
    },
    {
      "cell_type": "code",
      "source": [
        "df.drop(\"Country\",axis=1,inplace=True)"
      ],
      "metadata": {
        "id": "TnW1ThbCFbyy"
      },
      "execution_count": null,
      "outputs": []
    },
    {
      "cell_type": "code",
      "source": [
        "df.drop(severity_columns,axis=1,inplace=True)"
      ],
      "metadata": {
        "id": "eftRMJrrFkCp"
      },
      "execution_count": null,
      "outputs": []
    },
    {
      "cell_type": "code",
      "source": [
        "df['Symptoms_Score'] = df.iloc[:,:5].sum(axis=1) + df.iloc[:,6:10].sum(axis=1)"
      ],
      "metadata": {
        "id": "bRXbmC1JFo9z"
      },
      "execution_count": null,
      "outputs": []
    },
    {
      "cell_type": "code",
      "source": [
        "df.shape"
      ],
      "metadata": {
        "colab": {
          "base_uri": "https://localhost:8080/"
        },
        "id": "pWKBJNtKFtC1",
        "outputId": "9019f809-dfd0-4858-f2b1-378b7a608663"
      },
      "execution_count": null,
      "outputs": [
        {
          "output_type": "execute_result",
          "data": {
            "text/plain": [
              "(316800, 24)"
            ]
          },
          "metadata": {},
          "execution_count": 28
        }
      ]
    },
    {
      "cell_type": "code",
      "source": [
        "from sklearn import preprocessing\n",
        "le = preprocessing.LabelEncoder()\n",
        "df['Condition'] = le.fit_transform(df['Condition'])"
      ],
      "metadata": {
        "id": "RpwOdPCuFv71"
      },
      "execution_count": null,
      "outputs": []
    },
    {
      "cell_type": "code",
      "source": [
        "df"
      ],
      "metadata": {
        "colab": {
          "base_uri": "https://localhost:8080/",
          "height": 522
        },
        "id": "HfH-tma6F1dL",
        "outputId": "d7c8440e-0aa6-45ab-af6a-62f611590187"
      },
      "execution_count": null,
      "outputs": [
        {
          "output_type": "execute_result",
          "data": {
            "text/html": [
              "\n",
              "  <div id=\"df-268b3b94-03ad-4267-84e3-4877f64a273d\">\n",
              "    <div class=\"colab-df-container\">\n",
              "      <div>\n",
              "<style scoped>\n",
              "    .dataframe tbody tr th:only-of-type {\n",
              "        vertical-align: middle;\n",
              "    }\n",
              "\n",
              "    .dataframe tbody tr th {\n",
              "        vertical-align: top;\n",
              "    }\n",
              "\n",
              "    .dataframe thead th {\n",
              "        text-align: right;\n",
              "    }\n",
              "</style>\n",
              "<table border=\"1\" class=\"dataframe\">\n",
              "  <thead>\n",
              "    <tr style=\"text-align: right;\">\n",
              "      <th></th>\n",
              "      <th>Fever</th>\n",
              "      <th>Tiredness</th>\n",
              "      <th>Dry-Cough</th>\n",
              "      <th>Difficulty-in-Breathing</th>\n",
              "      <th>Sore-Throat</th>\n",
              "      <th>None_Sympton</th>\n",
              "      <th>Pains</th>\n",
              "      <th>Nasal-Congestion</th>\n",
              "      <th>Runny-Nose</th>\n",
              "      <th>Diarrhea</th>\n",
              "      <th>None_Experiencing</th>\n",
              "      <th>Age_0-9</th>\n",
              "      <th>Age_10-19</th>\n",
              "      <th>Age_20-24</th>\n",
              "      <th>Age_25-59</th>\n",
              "      <th>Age_60+</th>\n",
              "      <th>Gender_Female</th>\n",
              "      <th>Gender_Male</th>\n",
              "      <th>Gender_Transgender</th>\n",
              "      <th>Contact_Dont-Know</th>\n",
              "      <th>Contact_No</th>\n",
              "      <th>Contact_Yes</th>\n",
              "      <th>Condition</th>\n",
              "      <th>Symptoms_Score</th>\n",
              "    </tr>\n",
              "  </thead>\n",
              "  <tbody>\n",
              "    <tr>\n",
              "      <th>0</th>\n",
              "      <td>1</td>\n",
              "      <td>1</td>\n",
              "      <td>1</td>\n",
              "      <td>1</td>\n",
              "      <td>1</td>\n",
              "      <td>0</td>\n",
              "      <td>1</td>\n",
              "      <td>1</td>\n",
              "      <td>1</td>\n",
              "      <td>1</td>\n",
              "      <td>0</td>\n",
              "      <td>1</td>\n",
              "      <td>0</td>\n",
              "      <td>0</td>\n",
              "      <td>0</td>\n",
              "      <td>0</td>\n",
              "      <td>0</td>\n",
              "      <td>1</td>\n",
              "      <td>0</td>\n",
              "      <td>0</td>\n",
              "      <td>0</td>\n",
              "      <td>1</td>\n",
              "      <td>0</td>\n",
              "      <td>9</td>\n",
              "    </tr>\n",
              "    <tr>\n",
              "      <th>1</th>\n",
              "      <td>1</td>\n",
              "      <td>1</td>\n",
              "      <td>1</td>\n",
              "      <td>1</td>\n",
              "      <td>1</td>\n",
              "      <td>0</td>\n",
              "      <td>1</td>\n",
              "      <td>1</td>\n",
              "      <td>1</td>\n",
              "      <td>1</td>\n",
              "      <td>0</td>\n",
              "      <td>1</td>\n",
              "      <td>0</td>\n",
              "      <td>0</td>\n",
              "      <td>0</td>\n",
              "      <td>0</td>\n",
              "      <td>0</td>\n",
              "      <td>1</td>\n",
              "      <td>0</td>\n",
              "      <td>0</td>\n",
              "      <td>1</td>\n",
              "      <td>0</td>\n",
              "      <td>0</td>\n",
              "      <td>9</td>\n",
              "    </tr>\n",
              "    <tr>\n",
              "      <th>2</th>\n",
              "      <td>1</td>\n",
              "      <td>1</td>\n",
              "      <td>1</td>\n",
              "      <td>1</td>\n",
              "      <td>1</td>\n",
              "      <td>0</td>\n",
              "      <td>1</td>\n",
              "      <td>1</td>\n",
              "      <td>1</td>\n",
              "      <td>1</td>\n",
              "      <td>0</td>\n",
              "      <td>1</td>\n",
              "      <td>0</td>\n",
              "      <td>0</td>\n",
              "      <td>0</td>\n",
              "      <td>0</td>\n",
              "      <td>0</td>\n",
              "      <td>1</td>\n",
              "      <td>0</td>\n",
              "      <td>1</td>\n",
              "      <td>0</td>\n",
              "      <td>0</td>\n",
              "      <td>0</td>\n",
              "      <td>9</td>\n",
              "    </tr>\n",
              "    <tr>\n",
              "      <th>3</th>\n",
              "      <td>1</td>\n",
              "      <td>1</td>\n",
              "      <td>1</td>\n",
              "      <td>1</td>\n",
              "      <td>1</td>\n",
              "      <td>0</td>\n",
              "      <td>1</td>\n",
              "      <td>1</td>\n",
              "      <td>1</td>\n",
              "      <td>1</td>\n",
              "      <td>0</td>\n",
              "      <td>1</td>\n",
              "      <td>0</td>\n",
              "      <td>0</td>\n",
              "      <td>0</td>\n",
              "      <td>0</td>\n",
              "      <td>0</td>\n",
              "      <td>1</td>\n",
              "      <td>0</td>\n",
              "      <td>0</td>\n",
              "      <td>0</td>\n",
              "      <td>1</td>\n",
              "      <td>1</td>\n",
              "      <td>9</td>\n",
              "    </tr>\n",
              "    <tr>\n",
              "      <th>4</th>\n",
              "      <td>1</td>\n",
              "      <td>1</td>\n",
              "      <td>1</td>\n",
              "      <td>1</td>\n",
              "      <td>1</td>\n",
              "      <td>0</td>\n",
              "      <td>1</td>\n",
              "      <td>1</td>\n",
              "      <td>1</td>\n",
              "      <td>1</td>\n",
              "      <td>0</td>\n",
              "      <td>1</td>\n",
              "      <td>0</td>\n",
              "      <td>0</td>\n",
              "      <td>0</td>\n",
              "      <td>0</td>\n",
              "      <td>0</td>\n",
              "      <td>1</td>\n",
              "      <td>0</td>\n",
              "      <td>0</td>\n",
              "      <td>1</td>\n",
              "      <td>0</td>\n",
              "      <td>1</td>\n",
              "      <td>9</td>\n",
              "    </tr>\n",
              "    <tr>\n",
              "      <th>...</th>\n",
              "      <td>...</td>\n",
              "      <td>...</td>\n",
              "      <td>...</td>\n",
              "      <td>...</td>\n",
              "      <td>...</td>\n",
              "      <td>...</td>\n",
              "      <td>...</td>\n",
              "      <td>...</td>\n",
              "      <td>...</td>\n",
              "      <td>...</td>\n",
              "      <td>...</td>\n",
              "      <td>...</td>\n",
              "      <td>...</td>\n",
              "      <td>...</td>\n",
              "      <td>...</td>\n",
              "      <td>...</td>\n",
              "      <td>...</td>\n",
              "      <td>...</td>\n",
              "      <td>...</td>\n",
              "      <td>...</td>\n",
              "      <td>...</td>\n",
              "      <td>...</td>\n",
              "      <td>...</td>\n",
              "      <td>...</td>\n",
              "    </tr>\n",
              "    <tr>\n",
              "      <th>316795</th>\n",
              "      <td>0</td>\n",
              "      <td>0</td>\n",
              "      <td>0</td>\n",
              "      <td>0</td>\n",
              "      <td>0</td>\n",
              "      <td>1</td>\n",
              "      <td>0</td>\n",
              "      <td>0</td>\n",
              "      <td>0</td>\n",
              "      <td>0</td>\n",
              "      <td>1</td>\n",
              "      <td>0</td>\n",
              "      <td>0</td>\n",
              "      <td>0</td>\n",
              "      <td>0</td>\n",
              "      <td>1</td>\n",
              "      <td>0</td>\n",
              "      <td>0</td>\n",
              "      <td>1</td>\n",
              "      <td>0</td>\n",
              "      <td>1</td>\n",
              "      <td>0</td>\n",
              "      <td>3</td>\n",
              "      <td>0</td>\n",
              "    </tr>\n",
              "    <tr>\n",
              "      <th>316796</th>\n",
              "      <td>0</td>\n",
              "      <td>0</td>\n",
              "      <td>0</td>\n",
              "      <td>0</td>\n",
              "      <td>0</td>\n",
              "      <td>1</td>\n",
              "      <td>0</td>\n",
              "      <td>0</td>\n",
              "      <td>0</td>\n",
              "      <td>0</td>\n",
              "      <td>1</td>\n",
              "      <td>0</td>\n",
              "      <td>0</td>\n",
              "      <td>0</td>\n",
              "      <td>0</td>\n",
              "      <td>1</td>\n",
              "      <td>0</td>\n",
              "      <td>0</td>\n",
              "      <td>1</td>\n",
              "      <td>1</td>\n",
              "      <td>0</td>\n",
              "      <td>0</td>\n",
              "      <td>3</td>\n",
              "      <td>0</td>\n",
              "    </tr>\n",
              "    <tr>\n",
              "      <th>316797</th>\n",
              "      <td>0</td>\n",
              "      <td>0</td>\n",
              "      <td>0</td>\n",
              "      <td>0</td>\n",
              "      <td>0</td>\n",
              "      <td>1</td>\n",
              "      <td>0</td>\n",
              "      <td>0</td>\n",
              "      <td>0</td>\n",
              "      <td>0</td>\n",
              "      <td>1</td>\n",
              "      <td>0</td>\n",
              "      <td>0</td>\n",
              "      <td>0</td>\n",
              "      <td>0</td>\n",
              "      <td>1</td>\n",
              "      <td>0</td>\n",
              "      <td>0</td>\n",
              "      <td>1</td>\n",
              "      <td>0</td>\n",
              "      <td>0</td>\n",
              "      <td>1</td>\n",
              "      <td>2</td>\n",
              "      <td>0</td>\n",
              "    </tr>\n",
              "    <tr>\n",
              "      <th>316798</th>\n",
              "      <td>0</td>\n",
              "      <td>0</td>\n",
              "      <td>0</td>\n",
              "      <td>0</td>\n",
              "      <td>0</td>\n",
              "      <td>1</td>\n",
              "      <td>0</td>\n",
              "      <td>0</td>\n",
              "      <td>0</td>\n",
              "      <td>0</td>\n",
              "      <td>1</td>\n",
              "      <td>0</td>\n",
              "      <td>0</td>\n",
              "      <td>0</td>\n",
              "      <td>0</td>\n",
              "      <td>1</td>\n",
              "      <td>0</td>\n",
              "      <td>0</td>\n",
              "      <td>1</td>\n",
              "      <td>0</td>\n",
              "      <td>1</td>\n",
              "      <td>0</td>\n",
              "      <td>2</td>\n",
              "      <td>0</td>\n",
              "    </tr>\n",
              "    <tr>\n",
              "      <th>316799</th>\n",
              "      <td>0</td>\n",
              "      <td>0</td>\n",
              "      <td>0</td>\n",
              "      <td>0</td>\n",
              "      <td>0</td>\n",
              "      <td>1</td>\n",
              "      <td>0</td>\n",
              "      <td>0</td>\n",
              "      <td>0</td>\n",
              "      <td>0</td>\n",
              "      <td>1</td>\n",
              "      <td>0</td>\n",
              "      <td>0</td>\n",
              "      <td>0</td>\n",
              "      <td>0</td>\n",
              "      <td>1</td>\n",
              "      <td>0</td>\n",
              "      <td>0</td>\n",
              "      <td>1</td>\n",
              "      <td>1</td>\n",
              "      <td>0</td>\n",
              "      <td>0</td>\n",
              "      <td>2</td>\n",
              "      <td>0</td>\n",
              "    </tr>\n",
              "  </tbody>\n",
              "</table>\n",
              "<p>316800 rows × 24 columns</p>\n",
              "</div>\n",
              "      <button class=\"colab-df-convert\" onclick=\"convertToInteractive('df-268b3b94-03ad-4267-84e3-4877f64a273d')\"\n",
              "              title=\"Convert this dataframe to an interactive table.\"\n",
              "              style=\"display:none;\">\n",
              "        \n",
              "  <svg xmlns=\"http://www.w3.org/2000/svg\" height=\"24px\"viewBox=\"0 0 24 24\"\n",
              "       width=\"24px\">\n",
              "    <path d=\"M0 0h24v24H0V0z\" fill=\"none\"/>\n",
              "    <path d=\"M18.56 5.44l.94 2.06.94-2.06 2.06-.94-2.06-.94-.94-2.06-.94 2.06-2.06.94zm-11 1L8.5 8.5l.94-2.06 2.06-.94-2.06-.94L8.5 2.5l-.94 2.06-2.06.94zm10 10l.94 2.06.94-2.06 2.06-.94-2.06-.94-.94-2.06-.94 2.06-2.06.94z\"/><path d=\"M17.41 7.96l-1.37-1.37c-.4-.4-.92-.59-1.43-.59-.52 0-1.04.2-1.43.59L10.3 9.45l-7.72 7.72c-.78.78-.78 2.05 0 2.83L4 21.41c.39.39.9.59 1.41.59.51 0 1.02-.2 1.41-.59l7.78-7.78 2.81-2.81c.8-.78.8-2.07 0-2.86zM5.41 20L4 18.59l7.72-7.72 1.47 1.35L5.41 20z\"/>\n",
              "  </svg>\n",
              "      </button>\n",
              "      \n",
              "  <style>\n",
              "    .colab-df-container {\n",
              "      display:flex;\n",
              "      flex-wrap:wrap;\n",
              "      gap: 12px;\n",
              "    }\n",
              "\n",
              "    .colab-df-convert {\n",
              "      background-color: #E8F0FE;\n",
              "      border: none;\n",
              "      border-radius: 50%;\n",
              "      cursor: pointer;\n",
              "      display: none;\n",
              "      fill: #1967D2;\n",
              "      height: 32px;\n",
              "      padding: 0 0 0 0;\n",
              "      width: 32px;\n",
              "    }\n",
              "\n",
              "    .colab-df-convert:hover {\n",
              "      background-color: #E2EBFA;\n",
              "      box-shadow: 0px 1px 2px rgba(60, 64, 67, 0.3), 0px 1px 3px 1px rgba(60, 64, 67, 0.15);\n",
              "      fill: #174EA6;\n",
              "    }\n",
              "\n",
              "    [theme=dark] .colab-df-convert {\n",
              "      background-color: #3B4455;\n",
              "      fill: #D2E3FC;\n",
              "    }\n",
              "\n",
              "    [theme=dark] .colab-df-convert:hover {\n",
              "      background-color: #434B5C;\n",
              "      box-shadow: 0px 1px 3px 1px rgba(0, 0, 0, 0.15);\n",
              "      filter: drop-shadow(0px 1px 2px rgba(0, 0, 0, 0.3));\n",
              "      fill: #FFFFFF;\n",
              "    }\n",
              "  </style>\n",
              "\n",
              "      <script>\n",
              "        const buttonEl =\n",
              "          document.querySelector('#df-268b3b94-03ad-4267-84e3-4877f64a273d button.colab-df-convert');\n",
              "        buttonEl.style.display =\n",
              "          google.colab.kernel.accessAllowed ? 'block' : 'none';\n",
              "\n",
              "        async function convertToInteractive(key) {\n",
              "          const element = document.querySelector('#df-268b3b94-03ad-4267-84e3-4877f64a273d');\n",
              "          const dataTable =\n",
              "            await google.colab.kernel.invokeFunction('convertToInteractive',\n",
              "                                                     [key], {});\n",
              "          if (!dataTable) return;\n",
              "\n",
              "          const docLinkHtml = 'Like what you see? Visit the ' +\n",
              "            '<a target=\"_blank\" href=https://colab.research.google.com/notebooks/data_table.ipynb>data table notebook</a>'\n",
              "            + ' to learn more about interactive tables.';\n",
              "          element.innerHTML = '';\n",
              "          dataTable['output_type'] = 'display_data';\n",
              "          await google.colab.output.renderOutput(dataTable, element);\n",
              "          const docLink = document.createElement('div');\n",
              "          docLink.innerHTML = docLinkHtml;\n",
              "          element.appendChild(docLink);\n",
              "        }\n",
              "      </script>\n",
              "    </div>\n",
              "  </div>\n",
              "  "
            ],
            "text/plain": [
              "        Fever  Tiredness  Dry-Cough  Difficulty-in-Breathing  Sore-Throat  \\\n",
              "0           1          1          1                        1            1   \n",
              "1           1          1          1                        1            1   \n",
              "2           1          1          1                        1            1   \n",
              "3           1          1          1                        1            1   \n",
              "4           1          1          1                        1            1   \n",
              "...       ...        ...        ...                      ...          ...   \n",
              "316795      0          0          0                        0            0   \n",
              "316796      0          0          0                        0            0   \n",
              "316797      0          0          0                        0            0   \n",
              "316798      0          0          0                        0            0   \n",
              "316799      0          0          0                        0            0   \n",
              "\n",
              "        None_Sympton  Pains  Nasal-Congestion  Runny-Nose  Diarrhea  \\\n",
              "0                  0      1                 1           1         1   \n",
              "1                  0      1                 1           1         1   \n",
              "2                  0      1                 1           1         1   \n",
              "3                  0      1                 1           1         1   \n",
              "4                  0      1                 1           1         1   \n",
              "...              ...    ...               ...         ...       ...   \n",
              "316795             1      0                 0           0         0   \n",
              "316796             1      0                 0           0         0   \n",
              "316797             1      0                 0           0         0   \n",
              "316798             1      0                 0           0         0   \n",
              "316799             1      0                 0           0         0   \n",
              "\n",
              "        None_Experiencing  Age_0-9  Age_10-19  Age_20-24  Age_25-59  Age_60+  \\\n",
              "0                       0        1          0          0          0        0   \n",
              "1                       0        1          0          0          0        0   \n",
              "2                       0        1          0          0          0        0   \n",
              "3                       0        1          0          0          0        0   \n",
              "4                       0        1          0          0          0        0   \n",
              "...                   ...      ...        ...        ...        ...      ...   \n",
              "316795                  1        0          0          0          0        1   \n",
              "316796                  1        0          0          0          0        1   \n",
              "316797                  1        0          0          0          0        1   \n",
              "316798                  1        0          0          0          0        1   \n",
              "316799                  1        0          0          0          0        1   \n",
              "\n",
              "        Gender_Female  Gender_Male  Gender_Transgender  Contact_Dont-Know  \\\n",
              "0                   0            1                   0                  0   \n",
              "1                   0            1                   0                  0   \n",
              "2                   0            1                   0                  1   \n",
              "3                   0            1                   0                  0   \n",
              "4                   0            1                   0                  0   \n",
              "...               ...          ...                 ...                ...   \n",
              "316795              0            0                   1                  0   \n",
              "316796              0            0                   1                  1   \n",
              "316797              0            0                   1                  0   \n",
              "316798              0            0                   1                  0   \n",
              "316799              0            0                   1                  1   \n",
              "\n",
              "        Contact_No  Contact_Yes  Condition  Symptoms_Score  \n",
              "0                0            1          0               9  \n",
              "1                1            0          0               9  \n",
              "2                0            0          0               9  \n",
              "3                0            1          1               9  \n",
              "4                1            0          1               9  \n",
              "...            ...          ...        ...             ...  \n",
              "316795           1            0          3               0  \n",
              "316796           0            0          3               0  \n",
              "316797           0            1          2               0  \n",
              "316798           1            0          2               0  \n",
              "316799           0            0          2               0  \n",
              "\n",
              "[316800 rows x 24 columns]"
            ]
          },
          "metadata": {},
          "execution_count": 30
        }
      ]
    },
    {
      "cell_type": "markdown",
      "source": [
        "# Feature Engineering"
      ],
      "metadata": {
        "id": "O_Ptw7sIF9KZ"
      }
    },
    {
      "cell_type": "code",
      "source": [
        "from pylab import rcParams\n",
        "rcParams['figure.figsize'] = 13, 18\n",
        "corrmat = df.corr()\n",
        "k = 22\n",
        "cols = corrmat.nlargest(k, 'Condition')['Condition'].index\n",
        "cm = np.corrcoef(df[cols].values.T)\n",
        "sns.set(font_scale=1.25)\n",
        "hm = sns.heatmap(cm, cbar=True, annot=True, square=True, fmt='.2f', annot_kws={'size': 10}, yticklabels=cols.values, xticklabels=cols.values)\n",
        "plt.show()"
      ],
      "metadata": {
        "colab": {
          "base_uri": "https://localhost:8080/",
          "height": 1000
        },
        "id": "C9YXyRzRF4ro",
        "outputId": "c68e5fc3-51a8-42db-e5b2-e8636f24d5a4"
      },
      "execution_count": null,
      "outputs": [
        {
          "output_type": "display_data",
          "data": {
            "image/png": "[encoded data removed]",
            "text/plain": [
              "<Figure size 936x1296 with 2 Axes>"
            ]
          },
          "metadata": {}
        }
      ]
    },
    {
      "cell_type": "markdown",
      "source": [
        "# Model"
      ],
      "metadata": {
        "id": "CmcbcP02GLwl"
      }
    },
    {
      "cell_type": "code",
      "source": [
        "X= df.drop(['Condition'],axis=1)\n",
        "y= df['Condition']"
      ],
      "metadata": {
        "id": "slFxmoKFGDi8"
      },
      "execution_count": null,
      "outputs": []
    },
    {
      "cell_type": "code",
      "source": [
        "from sklearn.model_selection import train_test_split\n",
        "X_train, X_test, y_train, y_test = train_test_split(X, y, test_size=0.20, random_state=42)"
      ],
      "metadata": {
        "id": "yZsuLUT_GN7Y"
      },
      "execution_count": null,
      "outputs": []
    },
    {
      "cell_type": "markdown",
      "source": [
        "\n",
        "\n",
        "*   Random Forest\n",
        "\n"
      ],
      "metadata": {
        "id": "F_dsBFniGS65"
      }
    },
    {
      "cell_type": "code",
      "source": [
        "'''from sklearn.ensemble import RandomForestClassifier\n",
        "from sklearn.model_selection import GridSearchCV\n",
        "# Create the parameter grid based on the results of random search \n",
        "param_grid = {\n",
        "    'n_estimators': [100, 200, 300, 500],\n",
        "    'max_features': ['auto', 'sqrt', 'log2'],\n",
        "    'max_depth' : [4,5,6,7,8],\n",
        "    'criterion' :['gini', 'entropy']\n",
        "}\n",
        "# Create a based model\n",
        "rf = RandomForestClassifier()\n",
        "# Instantiate the grid search model\n",
        "grid_search = GridSearchCV(estimator = rf, param_grid = param_grid, \n",
        "                          cv = 3, n_jobs = -1, verbose = 2)'''"
      ],
      "metadata": {
        "colab": {
          "base_uri": "https://localhost:8080/",
          "height": 88
        },
        "id": "_YVLMfWXGSN5",
        "outputId": "5bee3a0f-c96f-4b3e-9a5b-00589f7ff7c9"
      },
      "execution_count": null,
      "outputs": [
        {
          "output_type": "execute_result",
          "data": {
            "application/vnd.google.colaboratory.intrinsic+json": {
              "type": "string"
            },
            "text/plain": [
              "\"from sklearn.ensemble import RandomForestClassifier\\nfrom sklearn.model_selection import GridSearchCV\\n# Create the parameter grid based on the results of random search \\nparam_grid = {\\n    'n_estimators': [100, 200, 300, 500],\\n    'max_features': ['auto', 'sqrt', 'log2'],\\n    'max_depth' : [4,5,6,7,8],\\n    'criterion' :['gini', 'entropy']\\n}\\n# Create a based model\\nrf = RandomForestClassifier()\\n# Instantiate the grid search model\\ngrid_search = GridSearchCV(estimator = rf, param_grid = param_grid, \\n                          cv = 3, n_jobs = -1, verbose = 2)\""
            ]
          },
          "metadata": {},
          "execution_count": 35
        }
      ]
    },
    {
      "cell_type": "code",
      "source": [
        "'''# Fit the grid search to the data\n",
        "grid_search.fit(X_train, y_train)'''"
      ],
      "metadata": {
        "colab": {
          "base_uri": "https://localhost:8080/",
          "height": 35
        },
        "id": "tUoUTno-GySg",
        "outputId": "1f97170c-8895-471f-a21d-3b6c581146ae"
      },
      "execution_count": null,
      "outputs": [
        {
          "output_type": "execute_result",
          "data": {
            "application/vnd.google.colaboratory.intrinsic+json": {
              "type": "string"
            },
            "text/plain": [
              "'# Fit the grid search to the data\\ngrid_search.fit(X_train, y_train)'"
            ]
          },
          "metadata": {},
          "execution_count": 36
        }
      ]
    },
    {
      "cell_type": "code",
      "source": [
        "'''print('Best Parameters',grid_search.best_params_)\n",
        "best_grid = grid_search.best_estimator_\n",
        "print('\\n Best Estimator',best_grid)'''"
      ],
      "metadata": {
        "colab": {
          "base_uri": "https://localhost:8080/",
          "height": 35
        },
        "id": "ngFOiR-BG8T9",
        "outputId": "0b63b675-13aa-4bcd-d7d5-24380a06e92e"
      },
      "execution_count": null,
      "outputs": [
        {
          "output_type": "execute_result",
          "data": {
            "application/vnd.google.colaboratory.intrinsic+json": {
              "type": "string"
            },
            "text/plain": [
              "\"print('Best Parameters',grid_search.best_params_)\\nbest_grid = grid_search.best_estimator_\\nprint('\\n Best Estimator',best_grid)\""
            ]
          },
          "metadata": {},
          "execution_count": 37
        }
      ]
    },
    {
      "cell_type": "code",
      "source": [
        "\"\"\"Best Parameters {'criterion': 'gini', 'max_depth': 4, 'max_features': 'sqrt', 'n_estimators': 100}\n",
        "Best Estimator RandomForestClassifier(max_depth=4, max_features='sqrt')\"\"\""
      ],
      "metadata": {
        "colab": {
          "base_uri": "https://localhost:8080/",
          "height": 35
        },
        "id": "zTrza678HDob",
        "outputId": "a5cdb98c-52a0-4bb1-fa72-99acd2b5141e"
      },
      "execution_count": null,
      "outputs": [
        {
          "output_type": "execute_result",
          "data": {
            "application/vnd.google.colaboratory.intrinsic+json": {
              "type": "string"
            },
            "text/plain": [
              "\"Best Parameters {'criterion': 'gini', 'max_depth': 4, 'max_features': 'sqrt', 'n_estimators': 100}\\nBest Estimator RandomForestClassifier(max_depth=4, max_features='sqrt')\""
            ]
          },
          "metadata": {},
          "execution_count": 38
        }
      ]
    },
    {
      "cell_type": "code",
      "source": [
        "from sklearn.ensemble import RandomForestClassifier\n",
        "rfc1=RandomForestClassifier(criterion= 'gini', max_depth= 4, max_features= 'sqrt', n_estimators= 100)"
      ],
      "metadata": {
        "id": "NnFfeI83HIzx"
      },
      "execution_count": null,
      "outputs": []
    },
    {
      "cell_type": "code",
      "source": [
        "rfc1.fit(X_train, y_train)"
      ],
      "metadata": {
        "colab": {
          "base_uri": "https://localhost:8080/"
        },
        "id": "CnO13QzdHNR6",
        "outputId": "a4a05ddd-63ac-4bbe-c5f9-47b359da420b"
      },
      "execution_count": null,
      "outputs": [
        {
          "output_type": "execute_result",
          "data": {
            "text/plain": [
              "RandomForestClassifier(max_depth=4, max_features='sqrt')"
            ]
          },
          "metadata": {},
          "execution_count": 40
        }
      ]
    },
    {
      "cell_type": "code",
      "source": [
        "pred=rfc1.predict(X_test)"
      ],
      "metadata": {
        "id": "VkXoiHVfHQQY"
      },
      "execution_count": null,
      "outputs": []
    },
    {
      "cell_type": "code",
      "source": [
        "pred"
      ],
      "metadata": {
        "colab": {
          "base_uri": "https://localhost:8080/"
        },
        "id": "MxEz5IQrHUCq",
        "outputId": "561ad23e-3373-4f95-f275-5e3d8f9f768b"
      },
      "execution_count": null,
      "outputs": [
        {
          "output_type": "execute_result",
          "data": {
            "text/plain": [
              "array([3, 3, 3, ..., 3, 3, 3])"
            ]
          },
          "metadata": {},
          "execution_count": 42
        }
      ]
    },
    {
      "cell_type": "code",
      "source": [
        "from sklearn.metrics import accuracy_score\n",
        "print(\"Accuracy for Random Forest on CV data: \",accuracy_score(y_test,pred))"
      ],
      "metadata": {
        "colab": {
          "base_uri": "https://localhost:8080/"
        },
        "id": "FG6Yuu5AHXyb",
        "outputId": "bff7c37e-70c8-4f98-9104-d415665bbf6e"
      },
      "execution_count": null,
      "outputs": [
        {
          "output_type": "stream",
          "name": "stdout",
          "text": [
            "Accuracy for Random Forest on CV data:  0.23065025252525254\n"
          ]
        }
      ]
    },
    {
      "cell_type": "code",
      "source": [
        "from sklearn.metrics import confusion_matrix\n",
        "confusion_matrix(y_test,pred)"
      ],
      "metadata": {
        "colab": {
          "base_uri": "https://localhost:8080/"
        },
        "id": "16VA0MYtHbBN",
        "outputId": "6bf70a61-f57d-4cf2-db0c-03378528367c"
      },
      "execution_count": null,
      "outputs": [
        {
          "output_type": "execute_result",
          "data": {
            "text/plain": [
              "array([[1755, 1421, 5073, 7726],\n",
              "       [1968, 1230, 5098, 7613],\n",
              "       [2016, 1431, 4602, 7708],\n",
              "       [2037, 1464, 5191, 7027]])"
            ]
          },
          "metadata": {},
          "execution_count": 44
        }
      ]
    },
    {
      "cell_type": "code",
      "source": [
        ""
      ],
      "metadata": {
        "id": "3PlKw3CEHfuc"
      },
      "execution_count": null,
      "outputs": []
    },
    {
      "cell_type": "markdown",
      "source": [
        "\n",
        "\n",
        "*   Cat Boost\n",
        "\n"
      ],
      "metadata": {
        "id": "FO9G_PDKHkvw"
      }
    },
    {
      "cell_type": "code",
      "source": [
        "!pip install catboost"
      ],
      "metadata": {
        "colab": {
          "base_uri": "https://localhost:8080/"
        },
        "id": "hNVlYPCCHo1B",
        "outputId": "b69ccf50-71da-46c9-fc5f-c9d3017f022f"
      },
      "execution_count": null,
      "outputs": [
        {
          "output_type": "stream",
          "name": "stdout",
          "text": [
            "Collecting catboost\n",
            "  Downloading catboost-1.0.4-cp37-none-manylinux1_x86_64.whl (76.1 MB)\n",
            "\u001b[K     |████████████████████████████████| 76.1 MB 1.3 MB/s \n",
            "\u001b[?25hRequirement already satisfied: scipy in /usr/local/lib/python3.7/dist-packages (from catboost) (1.4.1)\n",
            "Requirement already satisfied: six in /usr/local/lib/python3.7/dist-packages (from catboost) (1.15.0)\n",
            "Requirement already satisfied: pandas>=0.24.0 in /usr/local/lib/python3.7/dist-packages (from catboost) (1.3.5)\n",
            "Requirement already satisfied: plotly in /usr/local/lib/python3.7/dist-packages (from catboost) (5.5.0)\n",
            "Requirement already satisfied: graphviz in /usr/local/lib/python3.7/dist-packages (from catboost) (0.10.1)\n",
            "Requirement already satisfied: matplotlib in /usr/local/lib/python3.7/dist-packages (from catboost) (3.2.2)\n",
            "Requirement already satisfied: numpy>=1.16.0 in /usr/local/lib/python3.7/dist-packages (from catboost) (1.19.5)\n",
            "Requirement already satisfied: pytz>=2017.3 in /usr/local/lib/python3.7/dist-packages (from pandas>=0.24.0->catboost) (2018.9)\n",
            "Requirement already satisfied: python-dateutil>=2.7.3 in /usr/local/lib/python3.7/dist-packages (from pandas>=0.24.0->catboost) (2.8.2)\n",
            "Requirement already satisfied: kiwisolver>=1.0.1 in /usr/local/lib/python3.7/dist-packages (from matplotlib->catboost) (1.3.2)\n",
            "Requirement already satisfied: cycler>=0.10 in /usr/local/lib/python3.7/dist-packages (from matplotlib->catboost) (0.11.0)\n",
            "Requirement already satisfied: pyparsing!=2.0.4,!=2.1.2,!=2.1.6,>=2.0.1 in /usr/local/lib/python3.7/dist-packages (from matplotlib->catboost) (3.0.7)\n",
            "Requirement already satisfied: tenacity>=6.2.0 in /usr/local/lib/python3.7/dist-packages (from plotly->catboost) (8.0.1)\n",
            "Installing collected packages: catboost\n",
            "Successfully installed catboost-1.0.4\n"
          ]
        }
      ]
    },
    {
      "cell_type": "code",
      "source": [
        "from catboost import CatBoostClassifier"
      ],
      "metadata": {
        "id": "We8jj1x9HphW"
      },
      "execution_count": null,
      "outputs": []
    },
    {
      "cell_type": "code",
      "source": [
        "model = CatBoostClassifier(iterations=200)"
      ],
      "metadata": {
        "id": "JUitP0mCHufo"
      },
      "execution_count": null,
      "outputs": []
    },
    {
      "cell_type": "code",
      "source": [
        "categorical_var = np.where(X_train.dtypes != np.float)[0]\n",
        "print('\\nCategorical Variables indices : ',categorical_var)"
      ],
      "metadata": {
        "colab": {
          "base_uri": "https://localhost:8080/"
        },
        "id": "Dmw40-pEHxHX",
        "outputId": "0ba2cbec-1c8c-440c-beef-f86957a24270"
      },
      "execution_count": null,
      "outputs": [
        {
          "output_type": "stream",
          "name": "stdout",
          "text": [
            "\n",
            "Categorical Variables indices :  [ 0  1  2  3  4  5  6  7  8  9 10 11 12 13 14 15 16 17 18 19 20 21 22]\n"
          ]
        }
      ]
    },
    {
      "cell_type": "code",
      "source": [
        "model.fit(X_train,y_train,cat_features = categorical_var,plot=False)"
      ],
      "metadata": {
        "colab": {
          "base_uri": "https://localhost:8080/"
        },
        "id": "c0VzK2ANHznn",
        "outputId": "a76891fa-e9c4-48b3-fa11-af1855e17756"
      },
      "execution_count": null,
      "outputs": [
        {
          "output_type": "stream",
          "name": "stdout",
          "text": [
            "Learning rate set to 0.408837\n",
            "0:\tlearn: 1.3862142\ttotal: 724ms\tremaining: 2m 24s\n",
            "1:\tlearn: 1.3861638\ttotal: 1.05s\tremaining: 1m 43s\n",
            "2:\tlearn: 1.3861440\ttotal: 1.39s\tremaining: 1m 31s\n",
            "3:\tlearn: 1.3861000\ttotal: 1.75s\tremaining: 1m 25s\n",
            "4:\tlearn: 1.3860046\ttotal: 2.1s\tremaining: 1m 21s\n",
            "5:\tlearn: 1.3859796\ttotal: 2.43s\tremaining: 1m 18s\n",
            "6:\tlearn: 1.3859552\ttotal: 2.77s\tremaining: 1m 16s\n",
            "7:\tlearn: 1.3859276\ttotal: 3.1s\tremaining: 1m 14s\n",
            "8:\tlearn: 1.3858819\ttotal: 3.47s\tremaining: 1m 13s\n",
            "9:\tlearn: 1.3858448\ttotal: 3.82s\tremaining: 1m 12s\n",
            "10:\tlearn: 1.3857902\ttotal: 4.18s\tremaining: 1m 11s\n",
            "11:\tlearn: 1.3857512\ttotal: 4.55s\tremaining: 1m 11s\n",
            "12:\tlearn: 1.3857010\ttotal: 4.91s\tremaining: 1m 10s\n",
            "13:\tlearn: 1.3856820\ttotal: 5.27s\tremaining: 1m 10s\n",
            "14:\tlearn: 1.3856065\ttotal: 5.7s\tremaining: 1m 10s\n",
            "15:\tlearn: 1.3855559\ttotal: 6.12s\tremaining: 1m 10s\n",
            "16:\tlearn: 1.3855393\ttotal: 6.48s\tremaining: 1m 9s\n",
            "17:\tlearn: 1.3855137\ttotal: 6.83s\tremaining: 1m 9s\n",
            "18:\tlearn: 1.3855013\ttotal: 7.15s\tremaining: 1m 8s\n",
            "19:\tlearn: 1.3854837\ttotal: 7.51s\tremaining: 1m 7s\n",
            "20:\tlearn: 1.3854500\ttotal: 7.87s\tremaining: 1m 7s\n",
            "21:\tlearn: 1.3854194\ttotal: 8.24s\tremaining: 1m 6s\n",
            "22:\tlearn: 1.3854127\ttotal: 8.61s\tremaining: 1m 6s\n",
            "23:\tlearn: 1.3853737\ttotal: 8.96s\tremaining: 1m 5s\n",
            "24:\tlearn: 1.3853501\ttotal: 9.36s\tremaining: 1m 5s\n",
            "25:\tlearn: 1.3852763\ttotal: 9.72s\tremaining: 1m 5s\n",
            "26:\tlearn: 1.3852463\ttotal: 10.1s\tremaining: 1m 4s\n",
            "27:\tlearn: 1.3852246\ttotal: 10.4s\tremaining: 1m 4s\n",
            "28:\tlearn: 1.3851979\ttotal: 10.8s\tremaining: 1m 3s\n",
            "29:\tlearn: 1.3851420\ttotal: 11.2s\tremaining: 1m 3s\n",
            "30:\tlearn: 1.3851252\ttotal: 11.6s\tremaining: 1m 3s\n",
            "31:\tlearn: 1.3850698\ttotal: 11.9s\tremaining: 1m 2s\n",
            "32:\tlearn: 1.3850218\ttotal: 12.3s\tremaining: 1m 2s\n",
            "33:\tlearn: 1.3849241\ttotal: 12.7s\tremaining: 1m 2s\n",
            "34:\tlearn: 1.3848327\ttotal: 13.1s\tremaining: 1m 1s\n",
            "35:\tlearn: 1.3848014\ttotal: 13.4s\tremaining: 1m 1s\n",
            "36:\tlearn: 1.3847677\ttotal: 13.8s\tremaining: 1m\n",
            "37:\tlearn: 1.3846712\ttotal: 14.3s\tremaining: 1m\n",
            "38:\tlearn: 1.3846416\ttotal: 14.6s\tremaining: 1m\n",
            "39:\tlearn: 1.3845508\ttotal: 15s\tremaining: 60s\n",
            "40:\tlearn: 1.3844782\ttotal: 15.4s\tremaining: 59.6s\n",
            "41:\tlearn: 1.3844256\ttotal: 15.8s\tremaining: 59.4s\n",
            "42:\tlearn: 1.3844005\ttotal: 16.2s\tremaining: 59s\n",
            "43:\tlearn: 1.3843183\ttotal: 16.6s\tremaining: 58.7s\n",
            "44:\tlearn: 1.3842784\ttotal: 16.9s\tremaining: 58.3s\n",
            "45:\tlearn: 1.3842319\ttotal: 17.3s\tremaining: 58s\n",
            "46:\tlearn: 1.3842077\ttotal: 17.7s\tremaining: 57.7s\n",
            "47:\tlearn: 1.3841227\ttotal: 18.2s\tremaining: 57.5s\n",
            "48:\tlearn: 1.3840686\ttotal: 18.6s\tremaining: 57.2s\n",
            "49:\tlearn: 1.3840071\ttotal: 19s\tremaining: 57s\n",
            "50:\tlearn: 1.3839612\ttotal: 19.4s\tremaining: 56.7s\n",
            "51:\tlearn: 1.3839336\ttotal: 19.8s\tremaining: 56.4s\n",
            "52:\tlearn: 1.3838336\ttotal: 20.2s\tremaining: 56.2s\n",
            "53:\tlearn: 1.3837495\ttotal: 20.7s\tremaining: 56s\n",
            "54:\tlearn: 1.3837115\ttotal: 21.1s\tremaining: 55.7s\n",
            "55:\tlearn: 1.3836611\ttotal: 21.6s\tremaining: 55.4s\n",
            "56:\tlearn: 1.3835917\ttotal: 22s\tremaining: 55.2s\n",
            "57:\tlearn: 1.3835187\ttotal: 22.4s\tremaining: 54.8s\n",
            "58:\tlearn: 1.3834612\ttotal: 22.8s\tremaining: 54.5s\n",
            "59:\tlearn: 1.3834275\ttotal: 23.2s\tremaining: 54.1s\n",
            "60:\tlearn: 1.3834115\ttotal: 23.6s\tremaining: 53.7s\n",
            "61:\tlearn: 1.3833405\ttotal: 24s\tremaining: 53.5s\n",
            "62:\tlearn: 1.3832529\ttotal: 24.5s\tremaining: 53.2s\n",
            "63:\tlearn: 1.3831888\ttotal: 25s\tremaining: 53s\n",
            "64:\tlearn: 1.3831065\ttotal: 25.4s\tremaining: 52.7s\n",
            "65:\tlearn: 1.3830408\ttotal: 25.8s\tremaining: 52.4s\n",
            "66:\tlearn: 1.3830047\ttotal: 26.2s\tremaining: 52s\n",
            "67:\tlearn: 1.3829386\ttotal: 26.6s\tremaining: 51.7s\n",
            "68:\tlearn: 1.3828653\ttotal: 27.1s\tremaining: 51.5s\n",
            "69:\tlearn: 1.3828070\ttotal: 27.5s\tremaining: 51.1s\n",
            "70:\tlearn: 1.3827855\ttotal: 28s\tremaining: 50.9s\n",
            "71:\tlearn: 1.3827472\ttotal: 28.4s\tremaining: 50.5s\n",
            "72:\tlearn: 1.3826761\ttotal: 28.9s\tremaining: 50.2s\n",
            "73:\tlearn: 1.3826318\ttotal: 29.2s\tremaining: 49.8s\n",
            "74:\tlearn: 1.3825640\ttotal: 29.7s\tremaining: 49.4s\n",
            "75:\tlearn: 1.3825366\ttotal: 30.1s\tremaining: 49.1s\n",
            "76:\tlearn: 1.3824683\ttotal: 30.5s\tremaining: 48.8s\n",
            "77:\tlearn: 1.3824002\ttotal: 31s\tremaining: 48.5s\n",
            "78:\tlearn: 1.3823203\ttotal: 31.4s\tremaining: 48.1s\n",
            "79:\tlearn: 1.3822499\ttotal: 31.8s\tremaining: 47.7s\n",
            "80:\tlearn: 1.3822135\ttotal: 32.2s\tremaining: 47.4s\n",
            "81:\tlearn: 1.3821888\ttotal: 32.8s\tremaining: 47.2s\n",
            "82:\tlearn: 1.3821276\ttotal: 33.2s\tremaining: 46.8s\n",
            "83:\tlearn: 1.3821102\ttotal: 33.6s\tremaining: 46.4s\n",
            "84:\tlearn: 1.3820515\ttotal: 34.1s\tremaining: 46.1s\n",
            "85:\tlearn: 1.3819947\ttotal: 34.5s\tremaining: 45.7s\n",
            "86:\tlearn: 1.3819520\ttotal: 34.9s\tremaining: 45.3s\n",
            "87:\tlearn: 1.3819163\ttotal: 35.4s\tremaining: 45s\n",
            "88:\tlearn: 1.3818637\ttotal: 35.8s\tremaining: 44.6s\n",
            "89:\tlearn: 1.3818015\ttotal: 36.2s\tremaining: 44.3s\n",
            "90:\tlearn: 1.3817593\ttotal: 36.7s\tremaining: 43.9s\n",
            "91:\tlearn: 1.3817064\ttotal: 37.2s\tremaining: 43.6s\n",
            "92:\tlearn: 1.3816565\ttotal: 37.6s\tremaining: 43.2s\n",
            "93:\tlearn: 1.3816232\ttotal: 37.9s\tremaining: 42.8s\n",
            "94:\tlearn: 1.3815919\ttotal: 38.4s\tremaining: 42.4s\n",
            "95:\tlearn: 1.3815339\ttotal: 38.8s\tremaining: 42s\n",
            "96:\tlearn: 1.3814784\ttotal: 39.2s\tremaining: 41.6s\n",
            "97:\tlearn: 1.3814468\ttotal: 39.6s\tremaining: 41.2s\n",
            "98:\tlearn: 1.3813738\ttotal: 39.9s\tremaining: 40.7s\n",
            "99:\tlearn: 1.3813544\ttotal: 40.3s\tremaining: 40.3s\n",
            "100:\tlearn: 1.3812883\ttotal: 40.7s\tremaining: 39.9s\n",
            "101:\tlearn: 1.3812524\ttotal: 41.2s\tremaining: 39.6s\n",
            "102:\tlearn: 1.3812147\ttotal: 41.6s\tremaining: 39.2s\n",
            "103:\tlearn: 1.3811928\ttotal: 42s\tremaining: 38.8s\n",
            "104:\tlearn: 1.3811372\ttotal: 42.4s\tremaining: 38.4s\n",
            "105:\tlearn: 1.3811132\ttotal: 42.8s\tremaining: 38s\n",
            "106:\tlearn: 1.3810709\ttotal: 43.2s\tremaining: 37.6s\n",
            "107:\tlearn: 1.3810303\ttotal: 43.6s\tremaining: 37.1s\n",
            "108:\tlearn: 1.3809838\ttotal: 44s\tremaining: 36.7s\n",
            "109:\tlearn: 1.3809321\ttotal: 44.4s\tremaining: 36.4s\n",
            "110:\tlearn: 1.3808961\ttotal: 44.8s\tremaining: 35.9s\n",
            "111:\tlearn: 1.3808493\ttotal: 45.3s\tremaining: 35.6s\n",
            "112:\tlearn: 1.3808141\ttotal: 45.7s\tremaining: 35.2s\n",
            "113:\tlearn: 1.3807856\ttotal: 46.1s\tremaining: 34.8s\n",
            "114:\tlearn: 1.3807372\ttotal: 46.5s\tremaining: 34.4s\n",
            "115:\tlearn: 1.3806838\ttotal: 46.9s\tremaining: 34s\n",
            "116:\tlearn: 1.3806203\ttotal: 47.4s\tremaining: 33.6s\n",
            "117:\tlearn: 1.3805920\ttotal: 47.8s\tremaining: 33.2s\n",
            "118:\tlearn: 1.3805632\ttotal: 48.2s\tremaining: 32.8s\n",
            "119:\tlearn: 1.3805251\ttotal: 48.7s\tremaining: 32.5s\n",
            "120:\tlearn: 1.3804797\ttotal: 49.1s\tremaining: 32.1s\n",
            "121:\tlearn: 1.3804419\ttotal: 49.6s\tremaining: 31.7s\n",
            "122:\tlearn: 1.3803798\ttotal: 50s\tremaining: 31.3s\n",
            "123:\tlearn: 1.3803569\ttotal: 50.4s\tremaining: 30.9s\n",
            "124:\tlearn: 1.3803209\ttotal: 50.9s\tremaining: 30.5s\n",
            "125:\tlearn: 1.3802765\ttotal: 51.3s\tremaining: 30.1s\n",
            "126:\tlearn: 1.3802536\ttotal: 51.8s\tremaining: 29.8s\n",
            "127:\tlearn: 1.3801954\ttotal: 52.3s\tremaining: 29.4s\n",
            "128:\tlearn: 1.3801482\ttotal: 52.7s\tremaining: 29s\n",
            "129:\tlearn: 1.3801098\ttotal: 53.2s\tremaining: 28.6s\n",
            "130:\tlearn: 1.3800842\ttotal: 53.6s\tremaining: 28.2s\n",
            "131:\tlearn: 1.3800316\ttotal: 54.1s\tremaining: 27.8s\n",
            "132:\tlearn: 1.3800216\ttotal: 54.5s\tremaining: 27.4s\n",
            "133:\tlearn: 1.3799967\ttotal: 54.9s\tremaining: 27s\n",
            "134:\tlearn: 1.3799897\ttotal: 55.3s\tremaining: 26.6s\n",
            "135:\tlearn: 1.3799330\ttotal: 55.7s\tremaining: 26.2s\n",
            "136:\tlearn: 1.3799123\ttotal: 56.2s\tremaining: 25.8s\n",
            "137:\tlearn: 1.3798962\ttotal: 56.7s\tremaining: 25.5s\n",
            "138:\tlearn: 1.3798473\ttotal: 57.1s\tremaining: 25.1s\n",
            "139:\tlearn: 1.3798241\ttotal: 57.5s\tremaining: 24.6s\n",
            "140:\tlearn: 1.3797749\ttotal: 57.9s\tremaining: 24.2s\n",
            "141:\tlearn: 1.3797330\ttotal: 58.4s\tremaining: 23.8s\n",
            "142:\tlearn: 1.3797151\ttotal: 58.8s\tremaining: 23.4s\n",
            "143:\tlearn: 1.3796893\ttotal: 59.2s\tremaining: 23s\n",
            "144:\tlearn: 1.3796699\ttotal: 59.7s\tremaining: 22.7s\n",
            "145:\tlearn: 1.3796338\ttotal: 1m\tremaining: 22.3s\n",
            "146:\tlearn: 1.3796128\ttotal: 1m\tremaining: 21.9s\n",
            "147:\tlearn: 1.3795648\ttotal: 1m 1s\tremaining: 21.4s\n",
            "148:\tlearn: 1.3795230\ttotal: 1m 1s\tremaining: 21s\n",
            "149:\tlearn: 1.3794987\ttotal: 1m 1s\tremaining: 20.6s\n",
            "150:\tlearn: 1.3794836\ttotal: 1m 2s\tremaining: 20.2s\n",
            "151:\tlearn: 1.3794579\ttotal: 1m 2s\tremaining: 19.8s\n",
            "152:\tlearn: 1.3794243\ttotal: 1m 3s\tremaining: 19.4s\n",
            "153:\tlearn: 1.3794105\ttotal: 1m 3s\tremaining: 19s\n",
            "154:\tlearn: 1.3793887\ttotal: 1m 3s\tremaining: 18.6s\n",
            "155:\tlearn: 1.3793578\ttotal: 1m 4s\tremaining: 18.2s\n",
            "156:\tlearn: 1.3793241\ttotal: 1m 4s\tremaining: 17.8s\n",
            "157:\tlearn: 1.3793051\ttotal: 1m 5s\tremaining: 17.3s\n",
            "158:\tlearn: 1.3792896\ttotal: 1m 5s\tremaining: 16.9s\n",
            "159:\tlearn: 1.3792620\ttotal: 1m 6s\tremaining: 16.5s\n",
            "160:\tlearn: 1.3792354\ttotal: 1m 6s\tremaining: 16.1s\n",
            "161:\tlearn: 1.3791905\ttotal: 1m 6s\tremaining: 15.7s\n",
            "162:\tlearn: 1.3791393\ttotal: 1m 7s\tremaining: 15.3s\n",
            "163:\tlearn: 1.3791092\ttotal: 1m 7s\tremaining: 14.9s\n",
            "164:\tlearn: 1.3790851\ttotal: 1m 8s\tremaining: 14.4s\n",
            "165:\tlearn: 1.3790728\ttotal: 1m 8s\tremaining: 14s\n",
            "166:\tlearn: 1.3790363\ttotal: 1m 8s\tremaining: 13.6s\n",
            "167:\tlearn: 1.3790136\ttotal: 1m 9s\tremaining: 13.2s\n",
            "168:\tlearn: 1.3790016\ttotal: 1m 9s\tremaining: 12.8s\n",
            "169:\tlearn: 1.3789624\ttotal: 1m 10s\tremaining: 12.4s\n",
            "170:\tlearn: 1.3789330\ttotal: 1m 10s\tremaining: 12s\n",
            "171:\tlearn: 1.3789250\ttotal: 1m 11s\tremaining: 11.6s\n",
            "172:\tlearn: 1.3789018\ttotal: 1m 11s\tremaining: 11.2s\n",
            "173:\tlearn: 1.3788807\ttotal: 1m 11s\tremaining: 10.7s\n",
            "174:\tlearn: 1.3788512\ttotal: 1m 12s\tremaining: 10.3s\n",
            "175:\tlearn: 1.3787835\ttotal: 1m 12s\tremaining: 9.91s\n",
            "176:\tlearn: 1.3787525\ttotal: 1m 13s\tremaining: 9.5s\n",
            "177:\tlearn: 1.3787369\ttotal: 1m 13s\tremaining: 9.09s\n",
            "178:\tlearn: 1.3785571\ttotal: 1m 14s\tremaining: 8.68s\n",
            "179:\tlearn: 1.3785143\ttotal: 1m 14s\tremaining: 8.27s\n",
            "180:\tlearn: 1.3784569\ttotal: 1m 14s\tremaining: 7.86s\n",
            "181:\tlearn: 1.3784378\ttotal: 1m 15s\tremaining: 7.44s\n",
            "182:\tlearn: 1.3784048\ttotal: 1m 15s\tremaining: 7.03s\n",
            "183:\tlearn: 1.3783758\ttotal: 1m 16s\tremaining: 6.62s\n",
            "184:\tlearn: 1.3783419\ttotal: 1m 16s\tremaining: 6.21s\n",
            "185:\tlearn: 1.3783251\ttotal: 1m 17s\tremaining: 5.8s\n",
            "186:\tlearn: 1.3783013\ttotal: 1m 17s\tremaining: 5.39s\n",
            "187:\tlearn: 1.3782514\ttotal: 1m 18s\tremaining: 4.99s\n",
            "188:\tlearn: 1.3782183\ttotal: 1m 18s\tremaining: 4.57s\n",
            "189:\tlearn: 1.3781698\ttotal: 1m 18s\tremaining: 4.16s\n",
            "190:\tlearn: 1.3781323\ttotal: 1m 19s\tremaining: 3.74s\n",
            "191:\tlearn: 1.3781145\ttotal: 1m 19s\tremaining: 3.33s\n",
            "192:\tlearn: 1.3781029\ttotal: 1m 20s\tremaining: 2.91s\n",
            "193:\tlearn: 1.3780595\ttotal: 1m 20s\tremaining: 2.5s\n",
            "194:\tlearn: 1.3780400\ttotal: 1m 21s\tremaining: 2.08s\n",
            "195:\tlearn: 1.3780102\ttotal: 1m 21s\tremaining: 1.67s\n",
            "196:\tlearn: 1.3779661\ttotal: 1m 22s\tremaining: 1.26s\n",
            "197:\tlearn: 1.3779538\ttotal: 1m 23s\tremaining: 839ms\n",
            "198:\tlearn: 1.3779373\ttotal: 1m 23s\tremaining: 420ms\n",
            "199:\tlearn: 1.3778950\ttotal: 1m 23s\tremaining: 0us\n"
          ]
        },
        {
          "output_type": "execute_result",
          "data": {
            "text/plain": [
              "<catboost.core.CatBoostClassifier at 0x7ff1d20a43d0>"
            ]
          },
          "metadata": {},
          "execution_count": 49
        }
      ]
    },
    {
      "cell_type": "code",
      "source": [
        "predict_train = model.predict(X_train)\n",
        "print('\\nTarget on train data',predict_train)"
      ],
      "metadata": {
        "colab": {
          "base_uri": "https://localhost:8080/"
        },
        "id": "A9En9RaaH2t8",
        "outputId": "3f19376d-bc23-4d67-e9d3-79b15790de95"
      },
      "execution_count": null,
      "outputs": [
        {
          "output_type": "stream",
          "name": "stdout",
          "text": [
            "\n",
            "Target on train data [[3]\n",
            " [3]\n",
            " [3]\n",
            " ...\n",
            " [3]\n",
            " [3]\n",
            " [3]]\n"
          ]
        }
      ]
    },
    {
      "cell_type": "code",
      "source": [
        "accuracy_train = accuracy_score(y_train,predict_train)\n",
        "print('\\naccuracy_score on train dataset : ', accuracy_train)"
      ],
      "metadata": {
        "colab": {
          "base_uri": "https://localhost:8080/"
        },
        "id": "WiZsk-zBIQSx",
        "outputId": "b95998e3-750c-4ae1-ef07-c26fb94f8d8a"
      },
      "execution_count": null,
      "outputs": [
        {
          "output_type": "stream",
          "name": "stdout",
          "text": [
            "\n",
            "accuracy_score on train dataset :  0.26465041035353537\n"
          ]
        }
      ]
    },
    {
      "cell_type": "code",
      "source": [
        "predict_test = model.predict(X_test)\n",
        "print('\\nTarget on test data',predict_test) \n",
        "\n",
        "# Accuracy Score on test dataset\n",
        "accuracy_test = accuracy_score(y_test,predict_test)\n",
        "print('\\naccuracy_score on test dataset : ', accuracy_test)"
      ],
      "metadata": {
        "colab": {
          "base_uri": "https://localhost:8080/"
        },
        "id": "fby0ttNfIT76",
        "outputId": "c63d6c88-fb18-4189-89b2-ac09fe5049f8"
      },
      "execution_count": null,
      "outputs": [
        {
          "output_type": "stream",
          "name": "stdout",
          "text": [
            "\n",
            "Target on test data [[3]\n",
            " [3]\n",
            " [3]\n",
            " ...\n",
            " [1]\n",
            " [3]\n",
            " [3]]\n",
            "\n",
            "accuracy_score on test dataset :  0.19139835858585857\n"
          ]
        }
      ]
    },
    {
      "cell_type": "markdown",
      "source": [
        "*  Logical Regression"
      ],
      "metadata": {
        "id": "0JmPQYh5IlYo"
      }
    },
    {
      "cell_type": "code",
      "source": [
        "from sklearn.linear_model import LogisticRegression\n",
        "model = LogisticRegression(solver = 'lbfgs')\n",
        "model.fit(X_train, y_train)"
      ],
      "metadata": {
        "colab": {
          "base_uri": "https://localhost:8080/"
        },
        "id": "6I7Ih04WIdSf",
        "outputId": "0a76e4bd-e1ea-44a2-bf15-d43c8aa0914f"
      },
      "execution_count": null,
      "outputs": [
        {
          "output_type": "execute_result",
          "data": {
            "text/plain": [
              "LogisticRegression()"
            ]
          },
          "metadata": {},
          "execution_count": 53
        }
      ]
    },
    {
      "cell_type": "code",
      "source": [
        "# use the model to make predictions with the test data\n",
        "y_pred = model.predict(X_test)"
      ],
      "metadata": {
        "id": "DTCJ9UWYIyLx"
      },
      "execution_count": null,
      "outputs": []
    },
    {
      "cell_type": "code",
      "source": [
        "from sklearn.metrics import accuracy_score\n",
        "accuracy_score(y_test,y_pred)"
      ],
      "metadata": {
        "colab": {
          "base_uri": "https://localhost:8080/"
        },
        "id": "Dt-_36pHI2sG",
        "outputId": "cec7963b-601f-464c-d09c-c67a523461b9"
      },
      "execution_count": null,
      "outputs": [
        {
          "output_type": "execute_result",
          "data": {
            "text/plain": [
              "0.2401199494949495"
            ]
          },
          "metadata": {},
          "execution_count": 55
        }
      ]
    },
    {
      "cell_type": "code",
      "source": [
        "'''from sklearn.neighbors import KNeighborsClassifier\n",
        "\n",
        "knn = KNeighborsClassifier(n_neighbors=23)\n",
        "knn.fit(X_train, y_train)'''"
      ],
      "metadata": {
        "colab": {
          "base_uri": "https://localhost:8080/",
          "height": 35
        },
        "id": "m2THGgoSI8AH",
        "outputId": "8bbb5078-decc-437b-9e15-dd5406447d07"
      },
      "execution_count": null,
      "outputs": [
        {
          "output_type": "execute_result",
          "data": {
            "application/vnd.google.colaboratory.intrinsic+json": {
              "type": "string"
            },
            "text/plain": [
              "'from sklearn.neighbors import KNeighborsClassifier\\n\\nknn = KNeighborsClassifier(n_neighbors=23)\\nknn.fit(X_train, y_train)'"
            ]
          },
          "metadata": {},
          "execution_count": 56
        }
      ]
    },
    {
      "cell_type": "code",
      "source": [
        "'''from sklearn.neighbors import KNeighborsClassifier\n",
        "\n",
        "knn = KNeighborsClassifier(n_neighbors=23)\n",
        "knn.fit(X_train, y_train)'''"
      ],
      "metadata": {
        "colab": {
          "base_uri": "https://localhost:8080/",
          "height": 35
        },
        "id": "9i-LKa1eJEOD",
        "outputId": "8f9a0f5c-f0c4-4c58-d6a4-33d2adb83371"
      },
      "execution_count": null,
      "outputs": [
        {
          "output_type": "execute_result",
          "data": {
            "application/vnd.google.colaboratory.intrinsic+json": {
              "type": "string"
            },
            "text/plain": [
              "'from sklearn.neighbors import KNeighborsClassifier\\n\\nknn = KNeighborsClassifier(n_neighbors=23)\\nknn.fit(X_train, y_train)'"
            ]
          },
          "metadata": {},
          "execution_count": 57
        }
      ]
    },
    {
      "cell_type": "code",
      "source": [
        "'''from sklearn.metrics import accuracy_score\n",
        "accuracy_score(y_test,y_pred_knn)'''"
      ],
      "metadata": {
        "colab": {
          "base_uri": "https://localhost:8080/",
          "height": 35
        },
        "id": "FPUtEuzRJIYo",
        "outputId": "c18d0c31-1308-45a8-ca16-2f0c0a3b0033"
      },
      "execution_count": null,
      "outputs": [
        {
          "output_type": "execute_result",
          "data": {
            "application/vnd.google.colaboratory.intrinsic+json": {
              "type": "string"
            },
            "text/plain": [
              "'from sklearn.metrics import accuracy_score\\naccuracy_score(y_test,y_pred_knn)'"
            ]
          },
          "metadata": {},
          "execution_count": 58
        }
      ]
    },
    {
      "cell_type": "code",
      "source": [
        "'''from sklearn.svm import SVC\n",
        "\n",
        "svm = SVC(kernel='linear',C=0.025, random_state=101)\n",
        "\n",
        "svm.fit(X_train, y_train)'''"
      ],
      "metadata": {
        "colab": {
          "base_uri": "https://localhost:8080/",
          "height": 35
        },
        "id": "9FFXsihBJMat",
        "outputId": "c7167891-d7d9-4067-a455-cf5e874010ef"
      },
      "execution_count": null,
      "outputs": [
        {
          "output_type": "execute_result",
          "data": {
            "application/vnd.google.colaboratory.intrinsic+json": {
              "type": "string"
            },
            "text/plain": [
              "\"from sklearn.svm import SVC\\n\\nsvm = SVC(kernel='linear',C=0.025, random_state=101)\\n\\nsvm.fit(X_train, y_train)\""
            ]
          },
          "metadata": {},
          "execution_count": 59
        }
      ]
    },
    {
      "cell_type": "code",
      "source": [
        "'''y_pred_svc = svc.predict(X_test)'''"
      ],
      "metadata": {
        "colab": {
          "base_uri": "https://localhost:8080/",
          "height": 35
        },
        "id": "esIwpomUJQWa",
        "outputId": "6911dc8a-e296-401e-b12c-fb64ab719bc6"
      },
      "execution_count": null,
      "outputs": [
        {
          "output_type": "execute_result",
          "data": {
            "application/vnd.google.colaboratory.intrinsic+json": {
              "type": "string"
            },
            "text/plain": [
              "'y_pred_svc = svc.predict(X_test)'"
            ]
          },
          "metadata": {},
          "execution_count": 60
        }
      ]
    },
    {
      "cell_type": "code",
      "source": [
        "'''from sklearn.metrics import accuracy_score\n",
        "accuracy_score(y_test,y_pred_svc)'''"
      ],
      "metadata": {
        "colab": {
          "base_uri": "https://localhost:8080/",
          "height": 35
        },
        "id": "GjZN87uXJTaL",
        "outputId": "bb445aae-596e-4d0a-8197-0d69eb3a11b4"
      },
      "execution_count": null,
      "outputs": [
        {
          "output_type": "execute_result",
          "data": {
            "application/vnd.google.colaboratory.intrinsic+json": {
              "type": "string"
            },
            "text/plain": [
              "'from sklearn.metrics import accuracy_score\\naccuracy_score(y_test,y_pred_svc)'"
            ]
          },
          "metadata": {},
          "execution_count": 61
        }
      ]
    },
    {
      "cell_type": "code",
      "source": [
        "from sklearn.naive_bayes import MultinomialNB\n",
        "\n",
        "mb = MultinomialNB()\n",
        "\n",
        "mb.fit(X_train, y_train)"
      ],
      "metadata": {
        "colab": {
          "base_uri": "https://localhost:8080/"
        },
        "id": "3cZOq9OWJWBl",
        "outputId": "27cb5fd4-ec88-46ea-e2a5-af05b31c8fa2"
      },
      "execution_count": null,
      "outputs": [
        {
          "output_type": "execute_result",
          "data": {
            "text/plain": [
              "MultinomialNB()"
            ]
          },
          "metadata": {},
          "execution_count": 62
        }
      ]
    },
    {
      "cell_type": "code",
      "source": [
        "y_pred_mb = mb.predict(X_test)"
      ],
      "metadata": {
        "id": "LkDQNRLQJY7-"
      },
      "execution_count": null,
      "outputs": []
    },
    {
      "cell_type": "code",
      "source": [
        "from sklearn.metrics import accuracy_score\n",
        "accuracy_score(y_test,y_pred_mb)"
      ],
      "metadata": {
        "colab": {
          "base_uri": "https://localhost:8080/"
        },
        "id": "NlCpLlynJcJ5",
        "outputId": "4ac4049d-cd55-4719-a33b-fb50dc9e571c"
      },
      "execution_count": null,
      "outputs": [
        {
          "output_type": "execute_result",
          "data": {
            "text/plain": [
              "0.24141414141414141"
            ]
          },
          "metadata": {},
          "execution_count": 64
        }
      ]
    },
    {
      "cell_type": "markdown",
      "source": [
        "* Neural Network"
      ],
      "metadata": {
        "id": "CPif2KZcJi6a"
      }
    },
    {
      "cell_type": "code",
      "source": [
        "from keras.utils.np_utils import to_categorical\n",
        "y_train = to_categorical(y_train, num_classes = 4)\n",
        "y_train.shape"
      ],
      "metadata": {
        "colab": {
          "base_uri": "https://localhost:8080/"
        },
        "id": "jOI1ui1pJe04",
        "outputId": "6d5dcc1e-f0ba-4b88-d710-fdc96f3c0f7a"
      },
      "execution_count": null,
      "outputs": [
        {
          "output_type": "execute_result",
          "data": {
            "text/plain": [
              "(253440, 4)"
            ]
          },
          "metadata": {},
          "execution_count": 65
        }
      ]
    },
    {
      "cell_type": "code",
      "source": [
        "from keras.layers import Input,InputLayer, Dense, Activation, ZeroPadding2D, BatchNormalization, Flatten, Conv2D\n",
        "from keras.layers import AveragePooling2D, MaxPooling2D, Dropout\n",
        "from keras.models import Sequential,Model\n",
        "from keras.optimizers import SGD\n",
        "from keras.callbacks import ModelCheckpoint,LearningRateScheduler\n",
        "import keras\n",
        "from keras import backend as K"
      ],
      "metadata": {
        "id": "U6qUWsvyJoxR"
      },
      "execution_count": null,
      "outputs": []
    },
    {
      "cell_type": "code",
      "source": [
        "model=keras.models.Sequential()\n",
        "#model.add(keras.layers.Flatten())\n",
        "model.add(keras.layers.Dense(128,activation='relu'))\n",
        "model.add(keras.layers.Dense(128,activation='relu'))\n",
        "model.add(keras.layers.Dense(128,activation='relu'))\n",
        "model.add(keras.layers.Dense(128,activation='relu'))\n",
        "model.add(keras.layers.Dense(128,activation='relu'))\n",
        "model.add(keras.layers.Dense(4,activation='softmax'))"
      ],
      "metadata": {
        "id": "_zhePdJ3JwR0"
      },
      "execution_count": null,
      "outputs": []
    },
    {
      "cell_type": "code",
      "source": [
        "model.compile(loss='categorical_crossentropy',\n",
        "              optimizer='adam',\n",
        "              metrics=['accuracy'])\n",
        "                   \n",
        "model.fit(X_train, y_train,epochs=10, batch_size=32, verbose=1)"
      ],
      "metadata": {
        "colab": {
          "base_uri": "https://localhost:8080/"
        },
        "id": "Ptmo6Y1kKC0c",
        "outputId": "0a032b72-b653-470a-8d5f-9ea9a8b4bf30"
      },
      "execution_count": null,
      "outputs": [
        {
          "output_type": "stream",
          "name": "stdout",
          "text": [
            "Epoch 1/10\n",
            "7920/7920 [==============================] - 23s 3ms/step - loss: 1.3866 - accuracy: 0.2489\n",
            "Epoch 2/10\n",
            "7920/7920 [==============================] - 21s 3ms/step - loss: 1.3864 - accuracy: 0.2502\n",
            "Epoch 3/10\n",
            "7920/7920 [==============================] - 21s 3ms/step - loss: 1.3864 - accuracy: 0.2515\n",
            "Epoch 4/10\n",
            "7920/7920 [==============================] - 21s 3ms/step - loss: 1.3864 - accuracy: 0.2514\n",
            "Epoch 5/10\n",
            "7920/7920 [==============================] - 21s 3ms/step - loss: 1.3864 - accuracy: 0.2497\n",
            "Epoch 6/10\n",
            "7920/7920 [==============================] - 21s 3ms/step - loss: 1.3864 - accuracy: 0.2502\n",
            "Epoch 7/10\n",
            "7920/7920 [==============================] - 21s 3ms/step - loss: 1.3864 - accuracy: 0.2488\n",
            "Epoch 8/10\n",
            "7920/7920 [==============================] - 22s 3ms/step - loss: 1.3864 - accuracy: 0.2505\n",
            "Epoch 9/10\n",
            "7920/7920 [==============================] - 21s 3ms/step - loss: 1.3864 - accuracy: 0.2488\n",
            "Epoch 10/10\n",
            "7920/7920 [==============================] - 21s 3ms/step - loss: 1.3864 - accuracy: 0.2491\n"
          ]
        },
        {
          "output_type": "execute_result",
          "data": {
            "text/plain": [
              "<keras.callbacks.History at 0x7ff15ac42390>"
            ]
          },
          "metadata": {},
          "execution_count": 69
        }
      ]
    },
    {
      "cell_type": "code",
      "source": [
        "y_pred = model.predict(X_test)\n",
        "y_pred = np.argmax(y_pred,axis=1)"
      ],
      "metadata": {
        "id": "V8tgttP7KIhD"
      },
      "execution_count": null,
      "outputs": []
    },
    {
      "cell_type": "code",
      "source": [
        "y_pred"
      ],
      "metadata": {
        "id": "5ewQWNzCL4TF",
        "outputId": "34df0414-eb96-4499-e27e-84b81f143512",
        "colab": {
          "base_uri": "https://localhost:8080/"
        }
      },
      "execution_count": null,
      "outputs": [
        {
          "output_type": "execute_result",
          "data": {
            "text/plain": [
              "array([1, 1, 1, ..., 1, 1, 1])"
            ]
          },
          "metadata": {},
          "execution_count": 71
        }
      ]
    },
    {
      "cell_type": "code",
      "source": [
        ""
      ],
      "metadata": {
        "id": "CrqeWbqML8Ww"
      },
      "execution_count": null,
      "outputs": []
    }
  ]
}